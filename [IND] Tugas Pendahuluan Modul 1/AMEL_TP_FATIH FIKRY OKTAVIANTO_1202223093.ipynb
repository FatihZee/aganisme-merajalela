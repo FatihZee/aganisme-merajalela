{
  "cells": [
    {
      "cell_type": "markdown",
      "metadata": {
        "id": "LNHsJhlck7x_"
      },
      "source": [
        "# **TUGAS PENDAHULUAN MODUL 1**\n",
        "\n",
        "\n",
        "\n",
        "---\n"
      ]
    },
    {
      "cell_type": "markdown",
      "metadata": {
        "id": "miGwEaH4kydI"
      },
      "source": [
        "Nama: Fatih Fikry Oktavianto\n",
        "\n",
        "NIM: 1202223093\n",
        "\n",
        "Kelas: SI4603\n",
        "\n",
        "Shift: Shift 11\n",
        "\n",
        "Kode Asprak: AMEL"
      ]
    },
    {
      "cell_type": "markdown",
      "metadata": {
        "id": "h1lOPvWW_Tls"
      },
      "source": [
        "## **Aturan Pengerjaan dan Pengumpulan Tugas Pendahuluan (TP):**\n"
      ]
    },
    {
      "cell_type": "markdown",
      "metadata": {
        "id": "OYDJd9Wb_wMz"
      },
      "source": [
        "1. Tugas Pendahuluan dikerjakan secara individu dan diperbolehkan bertanya kepada asisten.\n",
        "2. Jawaban tidak boleh sama dengan setiap individu.\n",
        "3. File Python Notebook (.ipynb) yang berisi hasil kerja Tugas Pendahuluan harus diunggah pada modul yang telah disediakan di CeLOE Learning Management System (LMS).\n",
        "4. Batas pengiriman Tugas Pendahuluan sesuai dengan batas waktu di CeLOE Learning Management System (LMS).\n",
        "5. Format penamaan file .ipynb ( Python Notebook ):\n",
        "\n",
        "    **Kode Asisten_TP_NAMA LENGKAP (KAPITAL)_NIM.ipynb**\n",
        "\n",
        "    **BETA_TP_CHAIRUL IMAM I'ZAAZ_1232220911.ipynb**\n",
        "\n",
        "6. Tidak mengerjakan akan diberikan nilai 0.\n",
        "7. Kesalahan format penamaan file praktikum akan mendapatkan potongan nilai sebesar 10%  per file yang salah.\n",
        "8. Keterlambatan pengiriman file praktikum akan mendapatkan potongan nilai sebesar 50%.\n",
        "9. Terbukti melakukan kecurangan melalui alat bantu AI (ChatGPT, GitHub Copilot, Dll) baik diluar atau didalam praktikum maka nilai modul = 0.\n",
        "10. Segala bentuk atau indikasi kecurangan, mencontek, plagiarism, dan/atau pemalsuan akan dibawa ke Komisi Disiplin dan apabila terbukti nilai modul = 0.\n"
      ]
    },
    {
      "cell_type": "markdown",
      "metadata": {
        "id": "8vDcz-sTDe7p"
      },
      "source": [
        "## Studi Kasus"
      ]
    },
    {
      "cell_type": "markdown",
      "metadata": {
        "id": "0FwZS4OhV21h"
      },
      "source": [
        "Dalam studi kasus Tugas Pendahuluan, kita akan melakukan berbagai proses Data Cleansing, Data Reduction, Mising Value Handling, dan Data Transformastion pada dataset Titanic. Dataset ini terdiri dari informasi penumpang, seperti apakah mereka selamat, kelas tiket mereka, usia, jumlah kerabat yang ikut, tarif tiket, dan sebagainya. Dataset ini sangat berguna untuk mengajarkan berbagai teknik pra-pemrosesan data."
      ]
    },
    {
      "cell_type": "markdown",
      "metadata": {
        "id": "Fsr7QNUZEAm_"
      },
      "source": [
        "### Dataset"
      ]
    },
    {
      "cell_type": "markdown",
      "metadata": {
        "id": "YhpcLP8-EDDL"
      },
      "source": [
        "Dataset Titanic terdiri dari 889 baris dengan 14 kolom yang menjelaskan berbagai karakteristik penumpang, seperti:\n",
        "\n",
        "1. survived: 0 jika penumpang tidak selamat, 1 jika penumpang selamat.\n",
        "2. pclass: Kelas tiket (1, 2, atau 3).\n",
        "3. sex: Jenis kelamin penumpang.\n",
        "4. age: Usia penumpang.\n",
        "5. sibsp: Jumlah saudara atau pasangan penumpang di kapal.\n",
        "6. parch: Jumlah orang tua atau anak penumpang di kapal.\n",
        "7. fare: Tarif tiket.\n",
        "8. embarked: Pelabuhan tempat penumpang naik (C = Cherbourg, Q = Queenstown, S = Southampton).\n",
        "9. class: Kategori kelas penumpang (First, Second, Third).\n",
        "10. who: Identifikasi orang (man, woman, child).\n",
        "11. adult_male: Apakah penumpang laki-laki dewasa.\n",
        "12. embark_town: Kota pelabuhan embarkasi.\n",
        "13. alive: Status hidup (yes jika selamat, no jika tidak selamat).\n",
        "14. alone: Apakah penumpang sendirian (True/False)."
      ]
    },
    {
      "cell_type": "markdown",
      "metadata": {
        "id": "eInI7NCjDL0k"
      },
      "source": [
        "## Read Data"
      ]
    },
    {
      "cell_type": "markdown",
      "metadata": {
        "id": "scwtKZHGlbiv"
      },
      "source": [
        "Pertama, kita akan membaca dataset menggunakan pandas dan menampilkan beberapa baris awal untuk memahami struktur data.\n",
        "\n",
        "**Hint: library pandas, menggunkan read_csv(), head(), dan data = df**"
      ]
    },
    {
      "cell_type": "code",
      "execution_count": 85,
      "metadata": {
        "id": "WX7IbtKfCmns"
      },
      "outputs": [
        {
          "data": {
            "text/html": [
              "<div>\n",
              "<style scoped>\n",
              "    .dataframe tbody tr th:only-of-type {\n",
              "        vertical-align: middle;\n",
              "    }\n",
              "\n",
              "    .dataframe tbody tr th {\n",
              "        vertical-align: top;\n",
              "    }\n",
              "\n",
              "    .dataframe thead th {\n",
              "        text-align: right;\n",
              "    }\n",
              "</style>\n",
              "<table border=\"1\" class=\"dataframe\">\n",
              "  <thead>\n",
              "    <tr style=\"text-align: right;\">\n",
              "      <th></th>\n",
              "      <th>survived</th>\n",
              "      <th>pclass</th>\n",
              "      <th>sex</th>\n",
              "      <th>age</th>\n",
              "      <th>sibsp</th>\n",
              "      <th>parch</th>\n",
              "      <th>fare</th>\n",
              "      <th>embarked</th>\n",
              "      <th>class</th>\n",
              "      <th>who</th>\n",
              "      <th>adult_male</th>\n",
              "      <th>embark_town</th>\n",
              "      <th>alive</th>\n",
              "      <th>alone</th>\n",
              "    </tr>\n",
              "  </thead>\n",
              "  <tbody>\n",
              "    <tr>\n",
              "      <th>0</th>\n",
              "      <td>0</td>\n",
              "      <td>3</td>\n",
              "      <td>male</td>\n",
              "      <td>22.0</td>\n",
              "      <td>1</td>\n",
              "      <td>0</td>\n",
              "      <td>7.2500</td>\n",
              "      <td>S</td>\n",
              "      <td>Third</td>\n",
              "      <td>man</td>\n",
              "      <td>True</td>\n",
              "      <td>Southampton</td>\n",
              "      <td>no</td>\n",
              "      <td>False</td>\n",
              "    </tr>\n",
              "    <tr>\n",
              "      <th>1</th>\n",
              "      <td>1</td>\n",
              "      <td>1</td>\n",
              "      <td>female</td>\n",
              "      <td>38.0</td>\n",
              "      <td>1</td>\n",
              "      <td>0</td>\n",
              "      <td>71.2833</td>\n",
              "      <td>C</td>\n",
              "      <td>First</td>\n",
              "      <td>woman</td>\n",
              "      <td>False</td>\n",
              "      <td>Cherbourg</td>\n",
              "      <td>yes</td>\n",
              "      <td>False</td>\n",
              "    </tr>\n",
              "    <tr>\n",
              "      <th>2</th>\n",
              "      <td>1</td>\n",
              "      <td>3</td>\n",
              "      <td>female</td>\n",
              "      <td>26.0</td>\n",
              "      <td>0</td>\n",
              "      <td>0</td>\n",
              "      <td>7.9250</td>\n",
              "      <td>S</td>\n",
              "      <td>Third</td>\n",
              "      <td>woman</td>\n",
              "      <td>False</td>\n",
              "      <td>Southampton</td>\n",
              "      <td>yes</td>\n",
              "      <td>True</td>\n",
              "    </tr>\n",
              "    <tr>\n",
              "      <th>3</th>\n",
              "      <td>1</td>\n",
              "      <td>1</td>\n",
              "      <td>female</td>\n",
              "      <td>35.0</td>\n",
              "      <td>1</td>\n",
              "      <td>0</td>\n",
              "      <td>53.1000</td>\n",
              "      <td>S</td>\n",
              "      <td>First</td>\n",
              "      <td>woman</td>\n",
              "      <td>False</td>\n",
              "      <td>Southampton</td>\n",
              "      <td>yes</td>\n",
              "      <td>False</td>\n",
              "    </tr>\n",
              "    <tr>\n",
              "      <th>4</th>\n",
              "      <td>0</td>\n",
              "      <td>3</td>\n",
              "      <td>male</td>\n",
              "      <td>35.0</td>\n",
              "      <td>0</td>\n",
              "      <td>0</td>\n",
              "      <td>8.0500</td>\n",
              "      <td>S</td>\n",
              "      <td>Third</td>\n",
              "      <td>man</td>\n",
              "      <td>True</td>\n",
              "      <td>Southampton</td>\n",
              "      <td>no</td>\n",
              "      <td>True</td>\n",
              "    </tr>\n",
              "  </tbody>\n",
              "</table>\n",
              "</div>"
            ],
            "text/plain": [
              "   survived  pclass     sex   age  sibsp  parch     fare embarked  class  \\\n",
              "0         0       3    male  22.0      1      0   7.2500        S  Third   \n",
              "1         1       1  female  38.0      1      0  71.2833        C  First   \n",
              "2         1       3  female  26.0      0      0   7.9250        S  Third   \n",
              "3         1       1  female  35.0      1      0  53.1000        S  First   \n",
              "4         0       3    male  35.0      0      0   8.0500        S  Third   \n",
              "\n",
              "     who  adult_male  embark_town alive  alone  \n",
              "0    man        True  Southampton    no  False  \n",
              "1  woman       False    Cherbourg   yes  False  \n",
              "2  woman       False  Southampton   yes   True  \n",
              "3  woman       False  Southampton   yes  False  \n",
              "4    man        True  Southampton    no   True  "
            ]
          },
          "execution_count": 85,
          "metadata": {},
          "output_type": "execute_result"
        }
      ],
      "source": [
        "import pandas as pd\n",
        "df = pd.read_csv('Dataset_TP.csv')\n",
        "df.head()"
      ]
    },
    {
      "cell_type": "markdown",
      "metadata": {
        "id": "6GdY-TghCj-H"
      },
      "source": [
        "## Data Cleansing"
      ]
    },
    {
      "cell_type": "markdown",
      "metadata": {
        "id": "_6V8hWR0Dt9n"
      },
      "source": [
        "### Duplikasi data"
      ]
    },
    {
      "cell_type": "markdown",
      "metadata": {
        "id": "RjpNto7WDI58"
      },
      "source": [
        "mengecek apakah ada data yang duplikat dalam dataset. Jika ada data yang duplikat, kita menghapusnya karena data duplikat dapat mempengaruhi hasil analisis."
      ]
    },
    {
      "cell_type": "markdown",
      "metadata": {
        "id": "PCq-KdEFFCgg"
      },
      "source": [
        "Cek data duplikasi\n",
        "\n",
        "**Hint: duplicated(), dan sum()**"
      ]
    },
    {
      "cell_type": "code",
      "execution_count": 86,
      "metadata": {
        "id": "ss7GY7lhB8xF"
      },
      "outputs": [
        {
          "name": "stdout",
          "output_type": "stream",
          "text": [
            "Jumlah data duplikat: 106\n"
          ]
        }
      ],
      "source": [
        "duplikat = df.duplicated()\n",
        "jumlah_duplikat = duplikat.sum()\n",
        "\n",
        "print(f\"Jumlah data duplikat: {jumlah_duplikat}\")"
      ]
    },
    {
      "cell_type": "markdown",
      "metadata": {
        "id": "9SY1rinTDytc"
      },
      "source": [
        "Drop duplikasi data\n",
        "\n",
        "**Hint: drop_duplicates()**"
      ]
    },
    {
      "cell_type": "code",
      "execution_count": 87,
      "metadata": {
        "id": "jlKfW50KD5Rl"
      },
      "outputs": [
        {
          "name": "stdout",
          "output_type": "stream",
          "text": [
            "Data duplikat telah dihapus.\n"
          ]
        }
      ],
      "source": [
        "if jumlah_duplikat > 0:\n",
        "    df = df.drop_duplicates()\n",
        "    print(\"Data duplikat telah dihapus.\")\n",
        "else:\n",
        "    print(\"Tidak ada data duplikat.\")"
      ]
    },
    {
      "cell_type": "markdown",
      "metadata": {
        "id": "Fye6A2jQD-yz"
      },
      "source": [
        "Cek hasil drop duplikasi\n",
        "\n",
        "**Hint: duplicated(), dan sum()**"
      ]
    },
    {
      "cell_type": "code",
      "execution_count": 88,
      "metadata": {
        "id": "WLpvZKpREFXr"
      },
      "outputs": [
        {
          "name": "stdout",
          "output_type": "stream",
          "text": [
            "Jumlah data duplikat setelah dihapus: 0\n"
          ]
        }
      ],
      "source": [
        "duplikat_setelah_dihapus = df.duplicated().sum()\n",
        "\n",
        "print(f\"Jumlah data duplikat setelah dihapus: {duplikat_setelah_dihapus}\")"
      ]
    },
    {
      "cell_type": "markdown",
      "metadata": {
        "id": "_9g3u2TBFFY6"
      },
      "source": [
        "Cek Keseluruhan data\n",
        "\n",
        "**Hint: head()**"
      ]
    },
    {
      "cell_type": "code",
      "execution_count": 89,
      "metadata": {
        "id": "1YMHEDcAENAL"
      },
      "outputs": [
        {
          "data": {
            "text/html": [
              "<div>\n",
              "<style scoped>\n",
              "    .dataframe tbody tr th:only-of-type {\n",
              "        vertical-align: middle;\n",
              "    }\n",
              "\n",
              "    .dataframe tbody tr th {\n",
              "        vertical-align: top;\n",
              "    }\n",
              "\n",
              "    .dataframe thead th {\n",
              "        text-align: right;\n",
              "    }\n",
              "</style>\n",
              "<table border=\"1\" class=\"dataframe\">\n",
              "  <thead>\n",
              "    <tr style=\"text-align: right;\">\n",
              "      <th></th>\n",
              "      <th>survived</th>\n",
              "      <th>pclass</th>\n",
              "      <th>sex</th>\n",
              "      <th>age</th>\n",
              "      <th>sibsp</th>\n",
              "      <th>parch</th>\n",
              "      <th>fare</th>\n",
              "      <th>embarked</th>\n",
              "      <th>class</th>\n",
              "      <th>who</th>\n",
              "      <th>adult_male</th>\n",
              "      <th>embark_town</th>\n",
              "      <th>alive</th>\n",
              "      <th>alone</th>\n",
              "    </tr>\n",
              "  </thead>\n",
              "  <tbody>\n",
              "    <tr>\n",
              "      <th>0</th>\n",
              "      <td>0</td>\n",
              "      <td>3</td>\n",
              "      <td>male</td>\n",
              "      <td>22.0</td>\n",
              "      <td>1</td>\n",
              "      <td>0</td>\n",
              "      <td>7.2500</td>\n",
              "      <td>S</td>\n",
              "      <td>Third</td>\n",
              "      <td>man</td>\n",
              "      <td>True</td>\n",
              "      <td>Southampton</td>\n",
              "      <td>no</td>\n",
              "      <td>False</td>\n",
              "    </tr>\n",
              "    <tr>\n",
              "      <th>1</th>\n",
              "      <td>1</td>\n",
              "      <td>1</td>\n",
              "      <td>female</td>\n",
              "      <td>38.0</td>\n",
              "      <td>1</td>\n",
              "      <td>0</td>\n",
              "      <td>71.2833</td>\n",
              "      <td>C</td>\n",
              "      <td>First</td>\n",
              "      <td>woman</td>\n",
              "      <td>False</td>\n",
              "      <td>Cherbourg</td>\n",
              "      <td>yes</td>\n",
              "      <td>False</td>\n",
              "    </tr>\n",
              "    <tr>\n",
              "      <th>2</th>\n",
              "      <td>1</td>\n",
              "      <td>3</td>\n",
              "      <td>female</td>\n",
              "      <td>26.0</td>\n",
              "      <td>0</td>\n",
              "      <td>0</td>\n",
              "      <td>7.9250</td>\n",
              "      <td>S</td>\n",
              "      <td>Third</td>\n",
              "      <td>woman</td>\n",
              "      <td>False</td>\n",
              "      <td>Southampton</td>\n",
              "      <td>yes</td>\n",
              "      <td>True</td>\n",
              "    </tr>\n",
              "    <tr>\n",
              "      <th>3</th>\n",
              "      <td>1</td>\n",
              "      <td>1</td>\n",
              "      <td>female</td>\n",
              "      <td>35.0</td>\n",
              "      <td>1</td>\n",
              "      <td>0</td>\n",
              "      <td>53.1000</td>\n",
              "      <td>S</td>\n",
              "      <td>First</td>\n",
              "      <td>woman</td>\n",
              "      <td>False</td>\n",
              "      <td>Southampton</td>\n",
              "      <td>yes</td>\n",
              "      <td>False</td>\n",
              "    </tr>\n",
              "    <tr>\n",
              "      <th>4</th>\n",
              "      <td>0</td>\n",
              "      <td>3</td>\n",
              "      <td>male</td>\n",
              "      <td>35.0</td>\n",
              "      <td>0</td>\n",
              "      <td>0</td>\n",
              "      <td>8.0500</td>\n",
              "      <td>S</td>\n",
              "      <td>Third</td>\n",
              "      <td>man</td>\n",
              "      <td>True</td>\n",
              "      <td>Southampton</td>\n",
              "      <td>no</td>\n",
              "      <td>True</td>\n",
              "    </tr>\n",
              "  </tbody>\n",
              "</table>\n",
              "</div>"
            ],
            "text/plain": [
              "   survived  pclass     sex   age  sibsp  parch     fare embarked  class  \\\n",
              "0         0       3    male  22.0      1      0   7.2500        S  Third   \n",
              "1         1       1  female  38.0      1      0  71.2833        C  First   \n",
              "2         1       3  female  26.0      0      0   7.9250        S  Third   \n",
              "3         1       1  female  35.0      1      0  53.1000        S  First   \n",
              "4         0       3    male  35.0      0      0   8.0500        S  Third   \n",
              "\n",
              "     who  adult_male  embark_town alive  alone  \n",
              "0    man        True  Southampton    no  False  \n",
              "1  woman       False    Cherbourg   yes  False  \n",
              "2  woman       False  Southampton   yes   True  \n",
              "3  woman       False  Southampton   yes  False  \n",
              "4    man        True  Southampton    no   True  "
            ]
          },
          "execution_count": 89,
          "metadata": {},
          "output_type": "execute_result"
        }
      ],
      "source": [
        "df.head()"
      ]
    },
    {
      "cell_type": "markdown",
      "metadata": {
        "id": "4w-yWbNYFVCU"
      },
      "source": [
        "Berikan Kesimpulan:"
      ]
    },
    {
      "cell_type": "markdown",
      "metadata": {
        "id": "oB_D_IFXInit"
      },
      "source": [
        "Dari step awal kita disuruh untuk membaca data dari file csv yang diberikan asisten praktikum yang file nya sendiri Bernama Dataset_TP.csv, lalu distep selanjutnya kita disuruh untuk membersihkan data dari duplikasi menggunakan duplicated() dan sum(), setelah itu di step selanjutnya kita disuruh untuk menghapus duplikasi data yang barusan kita cek di step sebelumnya, kita drop menggunakan drop_duplicates(), setelah itu di step selanjutnya kita disuruh untuk mengecek data yang si step sebelumnya sudah kita drop datanya dan data duplikat sudah bernilai 0, lalu di step terakhir kita disuruh cek keseluruhan data menggunakan head() dimana head ini akan menampilkan data teratas"
      ]
    },
    {
      "cell_type": "markdown",
      "metadata": {
        "id": "R7C3F_HlDRRR"
      },
      "source": [
        "### Data Null"
      ]
    },
    {
      "cell_type": "markdown",
      "metadata": {
        "id": "5h_X5Tw0GH3u"
      },
      "source": [
        "Kolom seperti age dan embarked memiliki nilai yang hilang (missing values). Kita menghapus baris-baris yang mengandung nilai kosong, karena bisa memengaruhi kualitas model jika tidak ditangani."
      ]
    },
    {
      "cell_type": "markdown",
      "metadata": {
        "id": "fGCMv9fUGMVE"
      },
      "source": [
        "Melihat info dari data\n",
        "\n",
        "**Hint: info()**"
      ]
    },
    {
      "cell_type": "code",
      "execution_count": 90,
      "metadata": {
        "id": "mnzyA9yHFmit"
      },
      "outputs": [
        {
          "name": "stdout",
          "output_type": "stream",
          "text": [
            "<class 'pandas.core.frame.DataFrame'>\n",
            "Index: 783 entries, 0 to 888\n",
            "Data columns (total 14 columns):\n",
            " #   Column       Non-Null Count  Dtype  \n",
            "---  ------       --------------  -----  \n",
            " 0   survived     783 non-null    int64  \n",
            " 1   pclass       783 non-null    int64  \n",
            " 2   sex          783 non-null    object \n",
            " 3   age          677 non-null    float64\n",
            " 4   sibsp        783 non-null    int64  \n",
            " 5   parch        783 non-null    int64  \n",
            " 6   fare         717 non-null    float64\n",
            " 7   embarked     781 non-null    object \n",
            " 8   class        783 non-null    object \n",
            " 9   who          783 non-null    object \n",
            " 10  adult_male   783 non-null    bool   \n",
            " 11  embark_town  781 non-null    object \n",
            " 12  alive        783 non-null    object \n",
            " 13  alone        783 non-null    bool   \n",
            "dtypes: bool(2), float64(2), int64(4), object(6)\n",
            "memory usage: 81.1+ KB\n",
            "None\n"
          ]
        }
      ],
      "source": [
        "print(df.info())"
      ]
    },
    {
      "cell_type": "markdown",
      "metadata": {
        "id": "lFoLDHtbFyRN"
      },
      "source": [
        "Cek null didalam data\n",
        "\n",
        "**hint: insnull(), dan sum()**"
      ]
    },
    {
      "cell_type": "code",
      "execution_count": 91,
      "metadata": {
        "id": "3ztoEVs2DG1_"
      },
      "outputs": [
        {
          "name": "stdout",
          "output_type": "stream",
          "text": [
            "survived         0\n",
            "pclass           0\n",
            "sex              0\n",
            "age            106\n",
            "sibsp            0\n",
            "parch            0\n",
            "fare            66\n",
            "embarked         2\n",
            "class            0\n",
            "who              0\n",
            "adult_male       0\n",
            "embark_town      2\n",
            "alive            0\n",
            "alone            0\n",
            "dtype: int64\n"
          ]
        }
      ],
      "source": [
        "nilai_null = df.isnull().sum()\n",
        "\n",
        "print(nilai_null)"
      ]
    },
    {
      "cell_type": "markdown",
      "metadata": {
        "id": "0lAxh5fKFzWF"
      },
      "source": [
        "Drop nilai null yang berada pada **embark_town**\n",
        "\n",
        "**hint: dropna() dan subset**"
      ]
    },
    {
      "cell_type": "code",
      "execution_count": 92,
      "metadata": {
        "id": "5bYR48SgF4Zz"
      },
      "outputs": [],
      "source": [
        "df = df.dropna(subset=['embark_town'])"
      ]
    },
    {
      "cell_type": "markdown",
      "metadata": {
        "id": "206vJieqF3_W"
      },
      "source": [
        "Cek hasil drop nilai null\n",
        "\n",
        "**hint: insnull(), dan sum()**"
      ]
    },
    {
      "cell_type": "code",
      "execution_count": 93,
      "metadata": {
        "id": "n-4ZckobGIuO"
      },
      "outputs": [
        {
          "data": {
            "text/plain": [
              "survived         0\n",
              "pclass           0\n",
              "sex              0\n",
              "age            106\n",
              "sibsp            0\n",
              "parch            0\n",
              "fare            66\n",
              "embarked         0\n",
              "class            0\n",
              "who              0\n",
              "adult_male       0\n",
              "embark_town      0\n",
              "alive            0\n",
              "alone            0\n",
              "dtype: int64"
            ]
          },
          "execution_count": 93,
          "metadata": {},
          "output_type": "execute_result"
        }
      ],
      "source": [
        "df.isnull().sum()"
      ]
    },
    {
      "cell_type": "markdown",
      "metadata": {
        "id": "v093XbpzHx6e"
      },
      "source": [
        "Berikan Kesimpulan:\n"
      ]
    },
    {
      "cell_type": "markdown",
      "metadata": {
        "id": "k8uTBLCgIlY5"
      },
      "source": [
        "Pada kali ini kita disuruh untuk mengecek apakah didalam data kita terdapat nilai null, karena nilai null dapat mempengaruhi kualitas model jika tidak ditangani, kita melakukannnya dengan mengecek datanya dulu dengan menggunakan df.info(), lalu step selanjutnya kita melakukan pengecekan null didalam data dengan menggunakan isnull() lalu menjumlahkan ada berapa nilai null didalam datanya dengan sum(), lalu step selanjutnya kita disuruh untuk menghapus nilai null pada embark_town menggunakan dropna(subset=['embark_town']), lalu di step selanjutnya kita disuruh untuk mengecek ulang data apakah ada nilai null didalamnya dan hasilnya nilai null pada embark_town sudah 0, kita mengeceknya menggunakan perintah yang sama seperti yang diatas isnull() dan sum()"
      ]
    },
    {
      "cell_type": "markdown",
      "metadata": {
        "id": "4FzQ25pbG7Eg"
      },
      "source": [
        "### Drop kolom yang tidak di butuhkan"
      ]
    },
    {
      "cell_type": "markdown",
      "metadata": {
        "id": "xkn8zuEYn2Q1"
      },
      "source": [
        "Beberapa kolom tidak relevan dengan analisis yang ingin kita lakukan, misalnya kolom who yang mengandung informasi redundan atau sudah terwakili oleh kolom lain."
      ]
    },
    {
      "cell_type": "markdown",
      "metadata": {
        "id": "SijaTVKHHfMj"
      },
      "source": [
        "Cek Info dalam data\n",
        "\n",
        "**Hint: info()**"
      ]
    },
    {
      "cell_type": "code",
      "execution_count": 94,
      "metadata": {
        "id": "X8aGfx5BHXUA"
      },
      "outputs": [
        {
          "name": "stdout",
          "output_type": "stream",
          "text": [
            "<class 'pandas.core.frame.DataFrame'>\n",
            "Index: 781 entries, 0 to 888\n",
            "Data columns (total 14 columns):\n",
            " #   Column       Non-Null Count  Dtype  \n",
            "---  ------       --------------  -----  \n",
            " 0   survived     781 non-null    int64  \n",
            " 1   pclass       781 non-null    int64  \n",
            " 2   sex          781 non-null    object \n",
            " 3   age          675 non-null    float64\n",
            " 4   sibsp        781 non-null    int64  \n",
            " 5   parch        781 non-null    int64  \n",
            " 6   fare         715 non-null    float64\n",
            " 7   embarked     781 non-null    object \n",
            " 8   class        781 non-null    object \n",
            " 9   who          781 non-null    object \n",
            " 10  adult_male   781 non-null    bool   \n",
            " 11  embark_town  781 non-null    object \n",
            " 12  alive        781 non-null    object \n",
            " 13  alone        781 non-null    bool   \n",
            "dtypes: bool(2), float64(2), int64(4), object(6)\n",
            "memory usage: 80.8+ KB\n",
            "None\n"
          ]
        }
      ],
      "source": [
        "print(df.info())"
      ]
    },
    {
      "cell_type": "markdown",
      "metadata": {
        "id": "4UNv7miwHk62"
      },
      "source": [
        "drop kolum yang tidak di butuhkan kolum **who**\n",
        "\n",
        "**Hint: drop()**"
      ]
    },
    {
      "cell_type": "code",
      "execution_count": 95,
      "metadata": {
        "id": "cPvwEJXxG_PB"
      },
      "outputs": [],
      "source": [
        "df = df.drop(columns=['who'])"
      ]
    },
    {
      "cell_type": "markdown",
      "metadata": {
        "id": "FR_IGQmIHrCe"
      },
      "source": [
        "Cek info dalam data\n",
        "\n",
        "**Hint: info()**"
      ]
    },
    {
      "cell_type": "code",
      "execution_count": 96,
      "metadata": {
        "id": "4X7LY4iEHs2T"
      },
      "outputs": [
        {
          "name": "stdout",
          "output_type": "stream",
          "text": [
            "<class 'pandas.core.frame.DataFrame'>\n",
            "Index: 781 entries, 0 to 888\n",
            "Data columns (total 13 columns):\n",
            " #   Column       Non-Null Count  Dtype  \n",
            "---  ------       --------------  -----  \n",
            " 0   survived     781 non-null    int64  \n",
            " 1   pclass       781 non-null    int64  \n",
            " 2   sex          781 non-null    object \n",
            " 3   age          675 non-null    float64\n",
            " 4   sibsp        781 non-null    int64  \n",
            " 5   parch        781 non-null    int64  \n",
            " 6   fare         715 non-null    float64\n",
            " 7   embarked     781 non-null    object \n",
            " 8   class        781 non-null    object \n",
            " 9   adult_male   781 non-null    bool   \n",
            " 10  embark_town  781 non-null    object \n",
            " 11  alive        781 non-null    object \n",
            " 12  alone        781 non-null    bool   \n",
            "dtypes: bool(2), float64(2), int64(4), object(5)\n",
            "memory usage: 74.7+ KB\n",
            "None\n"
          ]
        }
      ],
      "source": [
        "print(df.info())"
      ]
    },
    {
      "cell_type": "markdown",
      "metadata": {
        "id": "br9iwsepIfiJ"
      },
      "source": [
        "Berikan Analisis/Kesimpulan:"
      ]
    },
    {
      "cell_type": "markdown",
      "metadata": {
        "id": "imIBKXSxIiof"
      },
      "source": [
        "Pada kali ini kita disuruh untuk melakukan drop kolom yang tidak dibutuhkan, missal ada kolom who yang mengandung redundansi, pertama kita harus cek datanya dulu menggunakan df.info(), lalu selanjutnya kita harus melakukan penghapusan kolom yang tidak dibutuhkan yaitu who dengan perintah df.drop(columns=['who']), lalu step selanjutnya kita melakukan pengecekan ulang data dengan info(), dan hasilnya kolom who sudah dihapus"
      ]
    },
    {
      "cell_type": "markdown",
      "metadata": {
        "id": "1vRlILeqI1CC"
      },
      "source": [
        "### Data Outlier"
      ]
    },
    {
      "cell_type": "markdown",
      "metadata": {
        "id": "PO8zLif-oYaI"
      },
      "source": [
        "Outlier adalah data yang tidak lazim atau sangat berbeda dari data lainnya. Pada kasus ini, kita mendeteksi outlier pada kolom fare (tarif tiket) menggunakan metode Interquartile Range (IQR), dan menghapus data yang berada di luar batas."
      ]
    },
    {
      "cell_type": "markdown",
      "metadata": {
        "id": "Vj045khmhTBH"
      },
      "source": [
        "Tampilkan ringkasan statistik dari data\n",
        "\n",
        "**Hint: describe()**"
      ]
    },
    {
      "cell_type": "code",
      "execution_count": 97,
      "metadata": {
        "id": "Qb9dGOXYhcuL"
      },
      "outputs": [
        {
          "data": {
            "text/html": [
              "<div>\n",
              "<style scoped>\n",
              "    .dataframe tbody tr th:only-of-type {\n",
              "        vertical-align: middle;\n",
              "    }\n",
              "\n",
              "    .dataframe tbody tr th {\n",
              "        vertical-align: top;\n",
              "    }\n",
              "\n",
              "    .dataframe thead th {\n",
              "        text-align: right;\n",
              "    }\n",
              "</style>\n",
              "<table border=\"1\" class=\"dataframe\">\n",
              "  <thead>\n",
              "    <tr style=\"text-align: right;\">\n",
              "      <th></th>\n",
              "      <th>survived</th>\n",
              "      <th>pclass</th>\n",
              "      <th>age</th>\n",
              "      <th>sibsp</th>\n",
              "      <th>parch</th>\n",
              "      <th>fare</th>\n",
              "    </tr>\n",
              "  </thead>\n",
              "  <tbody>\n",
              "    <tr>\n",
              "      <th>count</th>\n",
              "      <td>781.000000</td>\n",
              "      <td>781.000000</td>\n",
              "      <td>675.000000</td>\n",
              "      <td>781.000000</td>\n",
              "      <td>781.000000</td>\n",
              "      <td>715.000000</td>\n",
              "    </tr>\n",
              "    <tr>\n",
              "      <th>mean</th>\n",
              "      <td>0.411012</td>\n",
              "      <td>2.248399</td>\n",
              "      <td>29.793215</td>\n",
              "      <td>0.524968</td>\n",
              "      <td>0.417414</td>\n",
              "      <td>36.009580</td>\n",
              "    </tr>\n",
              "    <tr>\n",
              "      <th>std</th>\n",
              "      <td>0.492333</td>\n",
              "      <td>0.853207</td>\n",
              "      <td>14.735796</td>\n",
              "      <td>0.987592</td>\n",
              "      <td>0.838132</td>\n",
              "      <td>53.265887</td>\n",
              "    </tr>\n",
              "    <tr>\n",
              "      <th>min</th>\n",
              "      <td>0.000000</td>\n",
              "      <td>1.000000</td>\n",
              "      <td>0.420000</td>\n",
              "      <td>0.000000</td>\n",
              "      <td>0.000000</td>\n",
              "      <td>4.012500</td>\n",
              "    </tr>\n",
              "    <tr>\n",
              "      <th>25%</th>\n",
              "      <td>0.000000</td>\n",
              "      <td>1.000000</td>\n",
              "      <td>20.000000</td>\n",
              "      <td>0.000000</td>\n",
              "      <td>0.000000</td>\n",
              "      <td>8.050000</td>\n",
              "    </tr>\n",
              "    <tr>\n",
              "      <th>50%</th>\n",
              "      <td>0.000000</td>\n",
              "      <td>3.000000</td>\n",
              "      <td>28.000000</td>\n",
              "      <td>0.000000</td>\n",
              "      <td>0.000000</td>\n",
              "      <td>16.700000</td>\n",
              "    </tr>\n",
              "    <tr>\n",
              "      <th>75%</th>\n",
              "      <td>1.000000</td>\n",
              "      <td>3.000000</td>\n",
              "      <td>39.000000</td>\n",
              "      <td>1.000000</td>\n",
              "      <td>1.000000</td>\n",
              "      <td>36.125000</td>\n",
              "    </tr>\n",
              "    <tr>\n",
              "      <th>max</th>\n",
              "      <td>1.000000</td>\n",
              "      <td>3.000000</td>\n",
              "      <td>80.000000</td>\n",
              "      <td>8.000000</td>\n",
              "      <td>6.000000</td>\n",
              "      <td>512.329200</td>\n",
              "    </tr>\n",
              "  </tbody>\n",
              "</table>\n",
              "</div>"
            ],
            "text/plain": [
              "         survived      pclass         age       sibsp       parch        fare\n",
              "count  781.000000  781.000000  675.000000  781.000000  781.000000  715.000000\n",
              "mean     0.411012    2.248399   29.793215    0.524968    0.417414   36.009580\n",
              "std      0.492333    0.853207   14.735796    0.987592    0.838132   53.265887\n",
              "min      0.000000    1.000000    0.420000    0.000000    0.000000    4.012500\n",
              "25%      0.000000    1.000000   20.000000    0.000000    0.000000    8.050000\n",
              "50%      0.000000    3.000000   28.000000    0.000000    0.000000   16.700000\n",
              "75%      1.000000    3.000000   39.000000    1.000000    1.000000   36.125000\n",
              "max      1.000000    3.000000   80.000000    8.000000    6.000000  512.329200"
            ]
          },
          "execution_count": 97,
          "metadata": {},
          "output_type": "execute_result"
        }
      ],
      "source": [
        "df.describe()"
      ]
    },
    {
      "cell_type": "markdown",
      "metadata": {
        "id": "snd2X_ykMi0q"
      },
      "source": [
        "Buat grafik Boxplot semua colums Outlier\n",
        "\n",
        "**Hint: library matplotlib, dan pandas**"
      ]
    },
    {
      "cell_type": "code",
      "execution_count": 98,
      "metadata": {
        "id": "t3OPpolwRCmW"
      },
      "outputs": [
        {
          "data": {
            "image/png": "[encoded data removed]",
            "text/plain": [
              "<Figure size 1000x600 with 1 Axes>"
            ]
          },
          "metadata": {},
          "output_type": "display_data"
        }
      ],
      "source": [
        "import matplotlib.pyplot as plt\n",
        "\n",
        "df.boxplot(figsize=(10, 6), vert=False)\n",
        "\n",
        "plt.title('Boxplot dari Kolom Numerik untuk Deteksi Outlier')\n",
        "plt.show()"
      ]
    },
    {
      "cell_type": "markdown",
      "metadata": {
        "id": "3xW_ulLNNVUX"
      },
      "source": [
        "Drop Data yang outlier"
      ]
    },
    {
      "cell_type": "code",
      "execution_count": 99,
      "metadata": {
        "id": "p9zZ7UPKQ-8t"
      },
      "outputs": [
        {
          "name": "stdout",
          "output_type": "stream",
          "text": [
            "Batas bawah: -34.0625\n",
            "Batas atas: 78.2375\n"
          ]
        },
        {
          "data": {
            "text/plain": [
              "count    632.000000\n",
              "mean      21.411603\n",
              "std       17.079903\n",
              "min        4.012500\n",
              "25%        7.925000\n",
              "50%       14.454200\n",
              "75%       27.728100\n",
              "max       77.958300\n",
              "Name: fare, dtype: float64"
            ]
          },
          "metadata": {},
          "output_type": "display_data"
        }
      ],
      "source": [
        "Q1 = df['fare'].quantile(0.25)\n",
        "Q3 = df['fare'].quantile(0.75)\n",
        "\n",
        "IQR = Q3 - Q1\n",
        "\n",
        "batas_bawah = Q1 - 1.5 * IQR\n",
        "batas_atas = Q3 + 1.5 * IQR\n",
        "\n",
        "print(f\"Batas bawah: {batas_bawah}\")\n",
        "print(f\"Batas atas: {batas_atas}\")\n",
        "\n",
        "df = df[(df['fare'].isnull()) | (df['fare'] >= batas_bawah) & (df['fare'] <= batas_atas)]\n",
        "\n",
        "display(df['fare'].describe())"
      ]
    },
    {
      "cell_type": "markdown",
      "metadata": {
        "id": "Tc_86gecNdhv"
      },
      "source": [
        "Buat grafik Boxplot semua colums setelah pembersihan Outlier\n",
        "\n",
        "**Hint: liblary matplotlib, dan pandas**"
      ]
    },
    {
      "cell_type": "code",
      "execution_count": 100,
      "metadata": {
        "id": "Jt_Qw1usZ9sr"
      },
      "outputs": [
        {
          "data": {
            "image/png": "[encoded data removed]",
            "text/plain": [
              "<Figure size 1000x600 with 1 Axes>"
            ]
          },
          "metadata": {},
          "output_type": "display_data"
        }
      ],
      "source": [
        "import matplotlib.pyplot as plt\n",
        "\n",
        "df.boxplot(figsize=(10, 6), vert=False)\n",
        "\n",
        "plt.title('Boxplot dari Kolom Numerik Setelah Pembersihan Outlier')\n",
        "plt.show()"
      ]
    },
    {
      "cell_type": "markdown",
      "metadata": {
        "id": "7EnuvShtNnTO"
      },
      "source": [
        "cek info data\n",
        "\n",
        "**Hint: info()**"
      ]
    },
    {
      "cell_type": "code",
      "execution_count": 101,
      "metadata": {
        "id": "DnoCmTZgP7xx"
      },
      "outputs": [
        {
          "name": "stdout",
          "output_type": "stream",
          "text": [
            "<class 'pandas.core.frame.DataFrame'>\n",
            "Index: 698 entries, 0 to 888\n",
            "Data columns (total 13 columns):\n",
            " #   Column       Non-Null Count  Dtype  \n",
            "---  ------       --------------  -----  \n",
            " 0   survived     698 non-null    int64  \n",
            " 1   pclass       698 non-null    int64  \n",
            " 2   sex          698 non-null    object \n",
            " 3   age          600 non-null    float64\n",
            " 4   sibsp        698 non-null    int64  \n",
            " 5   parch        698 non-null    int64  \n",
            " 6   fare         632 non-null    float64\n",
            " 7   embarked     698 non-null    object \n",
            " 8   class        698 non-null    object \n",
            " 9   adult_male   698 non-null    bool   \n",
            " 10  embark_town  698 non-null    object \n",
            " 11  alive        698 non-null    object \n",
            " 12  alone        698 non-null    bool   \n",
            "dtypes: bool(2), float64(2), int64(4), object(5)\n",
            "memory usage: 66.8+ KB\n"
          ]
        }
      ],
      "source": [
        "df.info()"
      ]
    },
    {
      "cell_type": "markdown",
      "metadata": {
        "id": "heh00RzANy2X"
      },
      "source": [
        "Beerikan Kesimpulan:"
      ]
    },
    {
      "cell_type": "markdown",
      "metadata": {
        "id": "2NsGI4HmN1W9"
      },
      "source": [
        "Pada kali ini kita disuruh untuk mendeteksi dan menghapus outlier dari kolom fare dalam dataset. Pertama, kita melakukan pemeriksaan statistik deskriptif untuk melihat distribusi nilai dengan perintah df.describe(). Selanjutnya, kita membuat boxplot untuk mendeteksi outlier dengan menggunakan df.boxplot(). Lalu di step selanjutnya, kita menghitung kuartil pertama (Q1) dan kuartil ketiga (Q3) dari kolom fare untuk menentukan Rentang Interkuartil (IQR). Dari sini, kita menghitung batas bawah dan batas atas untuk mendeteksi outlier. Setelah mengetahui batasan tersebut, kita menghapus baris yang mengandung outlier dengan perintah df = df[(df['fare'] >= batas_bawah) & (df['fare'] <= batas_atas)]. Selanjutnya, kita memeriksa kembali statistik deskriptif dari kolom fare yang sudah dibersihkan dengan df['fare'].describe(), serta membuat boxplot lagi untuk melihat distribusi data setelah penghapusan outlier. Terakhir, kita melakukan pengecekan info DataFrame akhir dengan df.info(), dan hasilnya menunjukkan bahwa data telah bersih dari outlier."
      ]
    },
    {
      "cell_type": "markdown",
      "metadata": {
        "id": "odWZ8GC_HKrP"
      },
      "source": [
        "## Missing Value Handling"
      ]
    },
    {
      "cell_type": "markdown",
      "metadata": {
        "id": "TyWPczPbjPEL"
      },
      "source": [
        "### Fill Missing Values by Mean"
      ]
    },
    {
      "cell_type": "markdown",
      "metadata": {
        "id": "SQbKYupMog64"
      },
      "source": [
        "Pada kolom age, kita mengisi nilai yang hilang dengan rata-rata dari kolom tersebut. Hal ini menghindari kehilangan data sambil tetap mempertahankan nilai yang representatif."
      ]
    },
    {
      "cell_type": "markdown",
      "metadata": {
        "id": "VnTEamvjohnS"
      },
      "source": [
        "Cek nilai null\n",
        "\n",
        "**Hint: isnull(), dan sum()**"
      ]
    },
    {
      "cell_type": "code",
      "execution_count": 102,
      "metadata": {
        "id": "iOOSqXE4RXOu"
      },
      "outputs": [
        {
          "name": "stdout",
          "output_type": "stream",
          "text": [
            "Jumlah nilai null pada kolom age: 98\n"
          ]
        }
      ],
      "source": [
        "missing_age = df['age'].isnull().sum()\n",
        "print(f\"Jumlah nilai null pada kolom age: {missing_age}\")"
      ]
    },
    {
      "cell_type": "markdown",
      "metadata": {
        "id": "IR6BJuNSoskj"
      },
      "source": [
        "Isi nilai null pada kolom **age** dengan nilai mean\n",
        "\n",
        "**Hint: fillna(), dan mean()**"
      ]
    },
    {
      "cell_type": "code",
      "execution_count": 103,
      "metadata": {
        "id": "2JreSSFyHHct"
      },
      "outputs": [
        {
          "name": "stdout",
          "output_type": "stream",
          "text": [
            "Jumlah nilai null pada kolom age setelah diisi: 0\n"
          ]
        }
      ],
      "source": [
        "mean_age = df['age'].mean()\n",
        "\n",
        "df['age'] = df['age'].fillna(mean_age)\n",
        "\n",
        "missing_age_after_fill = df['age'].isnull().sum()\n",
        "print(f\"Jumlah nilai null pada kolom age setelah diisi: {missing_age_after_fill}\")"
      ]
    },
    {
      "cell_type": "markdown",
      "metadata": {
        "id": "DXcFjCfRpBZz"
      },
      "source": [
        "Cek nilai null\n",
        "\n",
        "**Hint: isnull(), dan sum()**"
      ]
    },
    {
      "cell_type": "code",
      "execution_count": 104,
      "metadata": {
        "id": "ckwG_cz-SWdi"
      },
      "outputs": [
        {
          "name": "stdout",
          "output_type": "stream",
          "text": [
            "survived        0\n",
            "pclass          0\n",
            "sex             0\n",
            "age             0\n",
            "sibsp           0\n",
            "parch           0\n",
            "fare           66\n",
            "embarked        0\n",
            "class           0\n",
            "adult_male      0\n",
            "embark_town     0\n",
            "alive           0\n",
            "alone           0\n",
            "dtype: int64\n"
          ]
        }
      ],
      "source": [
        "missing_values = df.isnull().sum()\n",
        "\n",
        "print(missing_values)"
      ]
    },
    {
      "cell_type": "markdown",
      "metadata": {
        "id": "Cdj0GEMopDyG"
      },
      "source": [
        "cek 10 data teratas\n",
        "\n",
        "**Hint: menggunakan head()**"
      ]
    },
    {
      "cell_type": "code",
      "execution_count": 105,
      "metadata": {
        "id": "MP7JCtt1V_1f"
      },
      "outputs": [
        {
          "data": {
            "text/html": [
              "<div>\n",
              "<style scoped>\n",
              "    .dataframe tbody tr th:only-of-type {\n",
              "        vertical-align: middle;\n",
              "    }\n",
              "\n",
              "    .dataframe tbody tr th {\n",
              "        vertical-align: top;\n",
              "    }\n",
              "\n",
              "    .dataframe thead th {\n",
              "        text-align: right;\n",
              "    }\n",
              "</style>\n",
              "<table border=\"1\" class=\"dataframe\">\n",
              "  <thead>\n",
              "    <tr style=\"text-align: right;\">\n",
              "      <th></th>\n",
              "      <th>survived</th>\n",
              "      <th>pclass</th>\n",
              "      <th>sex</th>\n",
              "      <th>age</th>\n",
              "      <th>sibsp</th>\n",
              "      <th>parch</th>\n",
              "      <th>fare</th>\n",
              "      <th>embarked</th>\n",
              "      <th>class</th>\n",
              "      <th>adult_male</th>\n",
              "      <th>embark_town</th>\n",
              "      <th>alive</th>\n",
              "      <th>alone</th>\n",
              "    </tr>\n",
              "  </thead>\n",
              "  <tbody>\n",
              "    <tr>\n",
              "      <th>0</th>\n",
              "      <td>0</td>\n",
              "      <td>3</td>\n",
              "      <td>male</td>\n",
              "      <td>22.000000</td>\n",
              "      <td>1</td>\n",
              "      <td>0</td>\n",
              "      <td>7.2500</td>\n",
              "      <td>S</td>\n",
              "      <td>Third</td>\n",
              "      <td>True</td>\n",
              "      <td>Southampton</td>\n",
              "      <td>no</td>\n",
              "      <td>False</td>\n",
              "    </tr>\n",
              "    <tr>\n",
              "      <th>1</th>\n",
              "      <td>1</td>\n",
              "      <td>1</td>\n",
              "      <td>female</td>\n",
              "      <td>38.000000</td>\n",
              "      <td>1</td>\n",
              "      <td>0</td>\n",
              "      <td>71.2833</td>\n",
              "      <td>C</td>\n",
              "      <td>First</td>\n",
              "      <td>False</td>\n",
              "      <td>Cherbourg</td>\n",
              "      <td>yes</td>\n",
              "      <td>False</td>\n",
              "    </tr>\n",
              "    <tr>\n",
              "      <th>2</th>\n",
              "      <td>1</td>\n",
              "      <td>3</td>\n",
              "      <td>female</td>\n",
              "      <td>26.000000</td>\n",
              "      <td>0</td>\n",
              "      <td>0</td>\n",
              "      <td>7.9250</td>\n",
              "      <td>S</td>\n",
              "      <td>Third</td>\n",
              "      <td>False</td>\n",
              "      <td>Southampton</td>\n",
              "      <td>yes</td>\n",
              "      <td>True</td>\n",
              "    </tr>\n",
              "    <tr>\n",
              "      <th>3</th>\n",
              "      <td>1</td>\n",
              "      <td>1</td>\n",
              "      <td>female</td>\n",
              "      <td>35.000000</td>\n",
              "      <td>1</td>\n",
              "      <td>0</td>\n",
              "      <td>53.1000</td>\n",
              "      <td>S</td>\n",
              "      <td>First</td>\n",
              "      <td>False</td>\n",
              "      <td>Southampton</td>\n",
              "      <td>yes</td>\n",
              "      <td>False</td>\n",
              "    </tr>\n",
              "    <tr>\n",
              "      <th>4</th>\n",
              "      <td>0</td>\n",
              "      <td>3</td>\n",
              "      <td>male</td>\n",
              "      <td>35.000000</td>\n",
              "      <td>0</td>\n",
              "      <td>0</td>\n",
              "      <td>8.0500</td>\n",
              "      <td>S</td>\n",
              "      <td>Third</td>\n",
              "      <td>True</td>\n",
              "      <td>Southampton</td>\n",
              "      <td>no</td>\n",
              "      <td>True</td>\n",
              "    </tr>\n",
              "    <tr>\n",
              "      <th>5</th>\n",
              "      <td>0</td>\n",
              "      <td>3</td>\n",
              "      <td>male</td>\n",
              "      <td>29.329167</td>\n",
              "      <td>0</td>\n",
              "      <td>0</td>\n",
              "      <td>8.4583</td>\n",
              "      <td>Q</td>\n",
              "      <td>Third</td>\n",
              "      <td>True</td>\n",
              "      <td>Queenstown</td>\n",
              "      <td>no</td>\n",
              "      <td>True</td>\n",
              "    </tr>\n",
              "    <tr>\n",
              "      <th>6</th>\n",
              "      <td>0</td>\n",
              "      <td>1</td>\n",
              "      <td>male</td>\n",
              "      <td>54.000000</td>\n",
              "      <td>0</td>\n",
              "      <td>0</td>\n",
              "      <td>51.8625</td>\n",
              "      <td>S</td>\n",
              "      <td>First</td>\n",
              "      <td>True</td>\n",
              "      <td>Southampton</td>\n",
              "      <td>no</td>\n",
              "      <td>True</td>\n",
              "    </tr>\n",
              "    <tr>\n",
              "      <th>7</th>\n",
              "      <td>0</td>\n",
              "      <td>3</td>\n",
              "      <td>male</td>\n",
              "      <td>2.000000</td>\n",
              "      <td>3</td>\n",
              "      <td>1</td>\n",
              "      <td>21.0750</td>\n",
              "      <td>S</td>\n",
              "      <td>Third</td>\n",
              "      <td>False</td>\n",
              "      <td>Southampton</td>\n",
              "      <td>no</td>\n",
              "      <td>False</td>\n",
              "    </tr>\n",
              "    <tr>\n",
              "      <th>8</th>\n",
              "      <td>1</td>\n",
              "      <td>3</td>\n",
              "      <td>female</td>\n",
              "      <td>27.000000</td>\n",
              "      <td>0</td>\n",
              "      <td>2</td>\n",
              "      <td>NaN</td>\n",
              "      <td>S</td>\n",
              "      <td>Third</td>\n",
              "      <td>False</td>\n",
              "      <td>Southampton</td>\n",
              "      <td>yes</td>\n",
              "      <td>False</td>\n",
              "    </tr>\n",
              "    <tr>\n",
              "      <th>9</th>\n",
              "      <td>1</td>\n",
              "      <td>2</td>\n",
              "      <td>female</td>\n",
              "      <td>14.000000</td>\n",
              "      <td>1</td>\n",
              "      <td>0</td>\n",
              "      <td>30.0708</td>\n",
              "      <td>C</td>\n",
              "      <td>Second</td>\n",
              "      <td>False</td>\n",
              "      <td>Cherbourg</td>\n",
              "      <td>yes</td>\n",
              "      <td>False</td>\n",
              "    </tr>\n",
              "  </tbody>\n",
              "</table>\n",
              "</div>"
            ],
            "text/plain": [
              "   survived  pclass     sex        age  sibsp  parch     fare embarked  \\\n",
              "0         0       3    male  22.000000      1      0   7.2500        S   \n",
              "1         1       1  female  38.000000      1      0  71.2833        C   \n",
              "2         1       3  female  26.000000      0      0   7.9250        S   \n",
              "3         1       1  female  35.000000      1      0  53.1000        S   \n",
              "4         0       3    male  35.000000      0      0   8.0500        S   \n",
              "5         0       3    male  29.329167      0      0   8.4583        Q   \n",
              "6         0       1    male  54.000000      0      0  51.8625        S   \n",
              "7         0       3    male   2.000000      3      1  21.0750        S   \n",
              "8         1       3  female  27.000000      0      2      NaN        S   \n",
              "9         1       2  female  14.000000      1      0  30.0708        C   \n",
              "\n",
              "    class  adult_male  embark_town alive  alone  \n",
              "0   Third        True  Southampton    no  False  \n",
              "1   First       False    Cherbourg   yes  False  \n",
              "2   Third       False  Southampton   yes   True  \n",
              "3   First       False  Southampton   yes  False  \n",
              "4   Third        True  Southampton    no   True  \n",
              "5   Third        True   Queenstown    no   True  \n",
              "6   First        True  Southampton    no   True  \n",
              "7   Third       False  Southampton    no  False  \n",
              "8   Third       False  Southampton   yes  False  \n",
              "9  Second       False    Cherbourg   yes  False  "
            ]
          },
          "execution_count": 105,
          "metadata": {},
          "output_type": "execute_result"
        }
      ],
      "source": [
        "df.head(10)"
      ]
    },
    {
      "cell_type": "markdown",
      "metadata": {
        "id": "N2C-_ImGpNsL"
      },
      "source": [
        "Berikan Kesimpulan:"
      ]
    },
    {
      "cell_type": "markdown",
      "metadata": {
        "id": "7JnvzxnmpPbh"
      },
      "source": [
        "Pada kali ini kita disuruh untuk menangani nilai yang hilang pada kolom age dengan mengisi nilai kosong tersebut menggunakan rata-rata dari kolom tersebut. Pertama, kita memeriksa jumlah nilai null pada kolom age dengan perintah df['age'].isnull().sum(), dan hasilnya menunjukkan jumlah nilai null yang ada. Selanjutnya, kita menghitung nilai rata-rata dari kolom age menggunakan df['age'].mean(). Setelah itu, kita mengisi nilai yang hilang pada kolom age dengan rata-rata yang telah dihitung menggunakan perintah df['age'] = df['age'].fillna(mean_age). Lalu di step selanjutnya, kita memeriksa kembali jumlah nilai null pada kolom age setelah pengisian dengan df['age'].isnull().sum(), dan hasilnya menunjukkan bahwa tidak ada lagi nilai null. Setelah itu, kita mengecek seluruh nilai null di DataFrame menggunakan df.isnull().sum() untuk memastikan tidak ada nilai yang hilang di kolom lain. Kita juga memeriksa 10 data teratas menggunakan df.head(10) untuk melihat perubahan yang terjadi pada data setelah penanganan nilai yang hilang."
      ]
    },
    {
      "cell_type": "markdown",
      "metadata": {
        "id": "aoNO7Y_MRPHs"
      },
      "source": [
        "### Fill Missing Values by Modus"
      ]
    },
    {
      "cell_type": "markdown",
      "metadata": {
        "id": "wz-Z1zhdp7ms"
      },
      "source": [
        "Pada kolom fare, jika ada nilai yang hilang, kita mengisi dengan modus (nilai yang paling sering muncul) karena modus merepresentasikan mayoritas tiket penumpang."
      ]
    },
    {
      "cell_type": "markdown",
      "metadata": {
        "id": "JhDbzHxApWZU"
      },
      "source": [
        "Cek nilai null\n",
        "\n",
        "**Hint: isnull(), dan sum()**"
      ]
    },
    {
      "cell_type": "code",
      "execution_count": 106,
      "metadata": {
        "id": "_6bmoF6rVIha"
      },
      "outputs": [
        {
          "name": "stdout",
          "output_type": "stream",
          "text": [
            "Jumlah nilai null pada kolom fare: 66\n"
          ]
        }
      ],
      "source": [
        "missing_fare = df['fare'].isnull().sum()\n",
        "print(f\"Jumlah nilai null pada kolom fare: {missing_fare}\")"
      ]
    },
    {
      "cell_type": "markdown",
      "metadata": {
        "id": "zKjApb_bpZbp"
      },
      "source": [
        "Isi nilai null di kolum **fare** dengan modus\n",
        "\n",
        "**Hint: fillna(), dan mode()**"
      ]
    },
    {
      "cell_type": "code",
      "execution_count": 107,
      "metadata": {
        "id": "lRySqcWOVFVq"
      },
      "outputs": [
        {
          "name": "stdout",
          "output_type": "stream",
          "text": [
            "Jumlah nilai null pada kolom fare setelah diisi: 0\n"
          ]
        }
      ],
      "source": [
        "mode_fare = df['fare'].mode()[0]\n",
        "\n",
        "df['fare'] = df['fare'].fillna(mode_fare)\n",
        "\n",
        "missing_fare_after_fill = df['fare'].isnull().sum()\n",
        "print(f\"Jumlah nilai null pada kolom fare setelah diisi: {missing_fare_after_fill}\")"
      ]
    },
    {
      "cell_type": "markdown",
      "metadata": {
        "id": "Pv-DynWapn4L"
      },
      "source": [
        "Cek nilai null\n",
        "\n",
        "**Hint: isnull(), dan sum()**"
      ]
    },
    {
      "cell_type": "code",
      "execution_count": 108,
      "metadata": {
        "id": "43ujcvTKV0sj"
      },
      "outputs": [
        {
          "name": "stdout",
          "output_type": "stream",
          "text": [
            "survived       0\n",
            "pclass         0\n",
            "sex            0\n",
            "age            0\n",
            "sibsp          0\n",
            "parch          0\n",
            "fare           0\n",
            "embarked       0\n",
            "class          0\n",
            "adult_male     0\n",
            "embark_town    0\n",
            "alive          0\n",
            "alone          0\n",
            "dtype: int64\n"
          ]
        }
      ],
      "source": [
        "missing_values_after_fill = df.isnull().sum()\n",
        "\n",
        "print(missing_values_after_fill)"
      ]
    },
    {
      "cell_type": "markdown",
      "metadata": {
        "id": "tR2yyJHppra-"
      },
      "source": [
        "Tampilkan 10 data teratas\n",
        "\n",
        "**Hint: head()**"
      ]
    },
    {
      "cell_type": "code",
      "execution_count": 109,
      "metadata": {
        "id": "7bZiYe60V4k4"
      },
      "outputs": [
        {
          "data": {
            "text/html": [
              "<div>\n",
              "<style scoped>\n",
              "    .dataframe tbody tr th:only-of-type {\n",
              "        vertical-align: middle;\n",
              "    }\n",
              "\n",
              "    .dataframe tbody tr th {\n",
              "        vertical-align: top;\n",
              "    }\n",
              "\n",
              "    .dataframe thead th {\n",
              "        text-align: right;\n",
              "    }\n",
              "</style>\n",
              "<table border=\"1\" class=\"dataframe\">\n",
              "  <thead>\n",
              "    <tr style=\"text-align: right;\">\n",
              "      <th></th>\n",
              "      <th>survived</th>\n",
              "      <th>pclass</th>\n",
              "      <th>sex</th>\n",
              "      <th>age</th>\n",
              "      <th>sibsp</th>\n",
              "      <th>parch</th>\n",
              "      <th>fare</th>\n",
              "      <th>embarked</th>\n",
              "      <th>class</th>\n",
              "      <th>adult_male</th>\n",
              "      <th>embark_town</th>\n",
              "      <th>alive</th>\n",
              "      <th>alone</th>\n",
              "    </tr>\n",
              "  </thead>\n",
              "  <tbody>\n",
              "    <tr>\n",
              "      <th>0</th>\n",
              "      <td>0</td>\n",
              "      <td>3</td>\n",
              "      <td>male</td>\n",
              "      <td>22.000000</td>\n",
              "      <td>1</td>\n",
              "      <td>0</td>\n",
              "      <td>7.2500</td>\n",
              "      <td>S</td>\n",
              "      <td>Third</td>\n",
              "      <td>True</td>\n",
              "      <td>Southampton</td>\n",
              "      <td>no</td>\n",
              "      <td>False</td>\n",
              "    </tr>\n",
              "    <tr>\n",
              "      <th>1</th>\n",
              "      <td>1</td>\n",
              "      <td>1</td>\n",
              "      <td>female</td>\n",
              "      <td>38.000000</td>\n",
              "      <td>1</td>\n",
              "      <td>0</td>\n",
              "      <td>71.2833</td>\n",
              "      <td>C</td>\n",
              "      <td>First</td>\n",
              "      <td>False</td>\n",
              "      <td>Cherbourg</td>\n",
              "      <td>yes</td>\n",
              "      <td>False</td>\n",
              "    </tr>\n",
              "    <tr>\n",
              "      <th>2</th>\n",
              "      <td>1</td>\n",
              "      <td>3</td>\n",
              "      <td>female</td>\n",
              "      <td>26.000000</td>\n",
              "      <td>0</td>\n",
              "      <td>0</td>\n",
              "      <td>7.9250</td>\n",
              "      <td>S</td>\n",
              "      <td>Third</td>\n",
              "      <td>False</td>\n",
              "      <td>Southampton</td>\n",
              "      <td>yes</td>\n",
              "      <td>True</td>\n",
              "    </tr>\n",
              "    <tr>\n",
              "      <th>3</th>\n",
              "      <td>1</td>\n",
              "      <td>1</td>\n",
              "      <td>female</td>\n",
              "      <td>35.000000</td>\n",
              "      <td>1</td>\n",
              "      <td>0</td>\n",
              "      <td>53.1000</td>\n",
              "      <td>S</td>\n",
              "      <td>First</td>\n",
              "      <td>False</td>\n",
              "      <td>Southampton</td>\n",
              "      <td>yes</td>\n",
              "      <td>False</td>\n",
              "    </tr>\n",
              "    <tr>\n",
              "      <th>4</th>\n",
              "      <td>0</td>\n",
              "      <td>3</td>\n",
              "      <td>male</td>\n",
              "      <td>35.000000</td>\n",
              "      <td>0</td>\n",
              "      <td>0</td>\n",
              "      <td>8.0500</td>\n",
              "      <td>S</td>\n",
              "      <td>Third</td>\n",
              "      <td>True</td>\n",
              "      <td>Southampton</td>\n",
              "      <td>no</td>\n",
              "      <td>True</td>\n",
              "    </tr>\n",
              "    <tr>\n",
              "      <th>5</th>\n",
              "      <td>0</td>\n",
              "      <td>3</td>\n",
              "      <td>male</td>\n",
              "      <td>29.329167</td>\n",
              "      <td>0</td>\n",
              "      <td>0</td>\n",
              "      <td>8.4583</td>\n",
              "      <td>Q</td>\n",
              "      <td>Third</td>\n",
              "      <td>True</td>\n",
              "      <td>Queenstown</td>\n",
              "      <td>no</td>\n",
              "      <td>True</td>\n",
              "    </tr>\n",
              "    <tr>\n",
              "      <th>6</th>\n",
              "      <td>0</td>\n",
              "      <td>1</td>\n",
              "      <td>male</td>\n",
              "      <td>54.000000</td>\n",
              "      <td>0</td>\n",
              "      <td>0</td>\n",
              "      <td>51.8625</td>\n",
              "      <td>S</td>\n",
              "      <td>First</td>\n",
              "      <td>True</td>\n",
              "      <td>Southampton</td>\n",
              "      <td>no</td>\n",
              "      <td>True</td>\n",
              "    </tr>\n",
              "    <tr>\n",
              "      <th>7</th>\n",
              "      <td>0</td>\n",
              "      <td>3</td>\n",
              "      <td>male</td>\n",
              "      <td>2.000000</td>\n",
              "      <td>3</td>\n",
              "      <td>1</td>\n",
              "      <td>21.0750</td>\n",
              "      <td>S</td>\n",
              "      <td>Third</td>\n",
              "      <td>False</td>\n",
              "      <td>Southampton</td>\n",
              "      <td>no</td>\n",
              "      <td>False</td>\n",
              "    </tr>\n",
              "    <tr>\n",
              "      <th>8</th>\n",
              "      <td>1</td>\n",
              "      <td>3</td>\n",
              "      <td>female</td>\n",
              "      <td>27.000000</td>\n",
              "      <td>0</td>\n",
              "      <td>2</td>\n",
              "      <td>26.0000</td>\n",
              "      <td>S</td>\n",
              "      <td>Third</td>\n",
              "      <td>False</td>\n",
              "      <td>Southampton</td>\n",
              "      <td>yes</td>\n",
              "      <td>False</td>\n",
              "    </tr>\n",
              "    <tr>\n",
              "      <th>9</th>\n",
              "      <td>1</td>\n",
              "      <td>2</td>\n",
              "      <td>female</td>\n",
              "      <td>14.000000</td>\n",
              "      <td>1</td>\n",
              "      <td>0</td>\n",
              "      <td>30.0708</td>\n",
              "      <td>C</td>\n",
              "      <td>Second</td>\n",
              "      <td>False</td>\n",
              "      <td>Cherbourg</td>\n",
              "      <td>yes</td>\n",
              "      <td>False</td>\n",
              "    </tr>\n",
              "  </tbody>\n",
              "</table>\n",
              "</div>"
            ],
            "text/plain": [
              "   survived  pclass     sex        age  sibsp  parch     fare embarked  \\\n",
              "0         0       3    male  22.000000      1      0   7.2500        S   \n",
              "1         1       1  female  38.000000      1      0  71.2833        C   \n",
              "2         1       3  female  26.000000      0      0   7.9250        S   \n",
              "3         1       1  female  35.000000      1      0  53.1000        S   \n",
              "4         0       3    male  35.000000      0      0   8.0500        S   \n",
              "5         0       3    male  29.329167      0      0   8.4583        Q   \n",
              "6         0       1    male  54.000000      0      0  51.8625        S   \n",
              "7         0       3    male   2.000000      3      1  21.0750        S   \n",
              "8         1       3  female  27.000000      0      2  26.0000        S   \n",
              "9         1       2  female  14.000000      1      0  30.0708        C   \n",
              "\n",
              "    class  adult_male  embark_town alive  alone  \n",
              "0   Third        True  Southampton    no  False  \n",
              "1   First       False    Cherbourg   yes  False  \n",
              "2   Third       False  Southampton   yes   True  \n",
              "3   First       False  Southampton   yes  False  \n",
              "4   Third        True  Southampton    no   True  \n",
              "5   Third        True   Queenstown    no   True  \n",
              "6   First        True  Southampton    no   True  \n",
              "7   Third       False  Southampton    no  False  \n",
              "8   Third       False  Southampton   yes  False  \n",
              "9  Second       False    Cherbourg   yes  False  "
            ]
          },
          "execution_count": 109,
          "metadata": {},
          "output_type": "execute_result"
        }
      ],
      "source": [
        "df.head(10)"
      ]
    },
    {
      "cell_type": "markdown",
      "metadata": {
        "id": "usUUP6lgpyho"
      },
      "source": [
        "Berikan Kesimpulan:"
      ]
    },
    {
      "cell_type": "markdown",
      "metadata": {
        "id": "24hu0HsQp2VN"
      },
      "source": [
        "Pada kali ini kita disuruh untuk menangani nilai yang hilang pada kolom fare dengan mengisi nilai kosong tersebut menggunakan modus (nilai yang paling sering muncul) dari kolom tersebut. Pertama, kita memeriksa jumlah nilai null pada kolom fare dengan perintah df['fare'].isnull().sum(), dan hasilnya menunjukkan jumlah nilai null yang ada. Selanjutnya, kita menghitung modus dari kolom fare menggunakan df['fare'].mode()[0]. Setelah itu, kita mengisi nilai yang hilang pada kolom fare dengan modus yang telah dihitung menggunakan perintah df['fare'] = df['fare'].fillna(mode_fare). Lalu di step selanjutnya, kita memeriksa kembali jumlah nilai null pada kolom fare setelah pengisian dengan df['fare'].isnull().sum(), dan hasilnya menunjukkan bahwa tidak ada lagi nilai null. Dan yang terakhir, kita mengecek seluruh nilai null di DataFrame setelah pengisian menggunakan df.isnull().sum() untuk memastikan tidak ada nilai yang hilang di kolom lain. Kita juga memeriksa 10 data teratas menggunakan df.head(10) untuk melihat perubahan yang terjadi pada data setelah penanganan nilai yang hilang."
      ]
    },
    {
      "cell_type": "markdown",
      "metadata": {
        "id": "pptEeTaMHDsX"
      },
      "source": [
        "## Data Reduction"
      ]
    },
    {
      "cell_type": "markdown",
      "metadata": {
        "id": "rTW0-Vm7ip0j"
      },
      "source": [
        "### PCA"
      ]
    },
    {
      "cell_type": "markdown",
      "metadata": {
        "id": "VRfRY6BHqODU"
      },
      "source": [
        "PCA digunakan untuk mengurangi dimensi data tanpa kehilangan terlalu banyak informasi. Dalam kasus ini, kita menggunakan PCA untuk mengekstrak dua komponen utama dari data yang telah dinormalisasi.\n",
        "\n",
        "note: untuk PCA tidak di gunakan pada tahap selanjutnya, harap gunakan df = df_PCA"
      ]
    },
    {
      "cell_type": "markdown",
      "metadata": {
        "id": "msvDnDgoe2fj"
      },
      "source": [
        "Library yang digunakan\n",
        "\n",
        "**Hint: sklearn.decomposite (PCA), numpy, sklearn.preprocessing (StandardScaler)**"
      ]
    },
    {
      "cell_type": "code",
      "execution_count": 110,
      "metadata": {
        "id": "sbqzAgPwe03O"
      },
      "outputs": [],
      "source": [
        "import pandas as pd\n",
        "import numpy as np\n",
        "from sklearn.decomposition import PCA\n",
        "from sklearn.preprocessing import StandardScaler"
      ]
    },
    {
      "cell_type": "markdown",
      "metadata": {
        "id": "LM847HWxfAwF"
      },
      "source": [
        "memilih kolom numerik yang ingin di gunakan\n",
        "\n",
        "**Hint: Menggunakan kolom 'age', 'fare', 'pclass', 'sibsp', dan 'parch'**"
      ]
    },
    {
      "cell_type": "code",
      "execution_count": 111,
      "metadata": {
        "id": "9TIiRx4ffByE"
      },
      "outputs": [],
      "source": [
        "selected_columns = ['age', 'fare', 'pclass', 'sibsp', 'parch']\n",
        "data_for_pca = df[selected_columns]"
      ]
    },
    {
      "cell_type": "markdown",
      "metadata": {
        "id": "z6CZHbYWfBiD"
      },
      "source": [
        "Normalisasikan data\n",
        "\n",
        "**Hint: StandardScaler()**"
      ]
    },
    {
      "cell_type": "code",
      "execution_count": 112,
      "metadata": {
        "id": "_CJi6I6Rf9vo"
      },
      "outputs": [
        {
          "data": {
            "text/html": [
              "<div>\n",
              "<style scoped>\n",
              "    .dataframe tbody tr th:only-of-type {\n",
              "        vertical-align: middle;\n",
              "    }\n",
              "\n",
              "    .dataframe tbody tr th {\n",
              "        vertical-align: top;\n",
              "    }\n",
              "\n",
              "    .dataframe thead th {\n",
              "        text-align: right;\n",
              "    }\n",
              "</style>\n",
              "<table border=\"1\" class=\"dataframe\">\n",
              "  <thead>\n",
              "    <tr style=\"text-align: right;\">\n",
              "      <th></th>\n",
              "      <th>age</th>\n",
              "      <th>fare</th>\n",
              "      <th>pclass</th>\n",
              "      <th>sibsp</th>\n",
              "      <th>parch</th>\n",
              "    </tr>\n",
              "  </thead>\n",
              "  <tbody>\n",
              "    <tr>\n",
              "      <th>0</th>\n",
              "      <td>-0.537247</td>\n",
              "      <td>-0.895708</td>\n",
              "      <td>0.774723</td>\n",
              "      <td>0.479479</td>\n",
              "      <td>-0.470896</td>\n",
              "    </tr>\n",
              "    <tr>\n",
              "      <th>1</th>\n",
              "      <td>0.635595</td>\n",
              "      <td>3.033947</td>\n",
              "      <td>-1.794193</td>\n",
              "      <td>0.479479</td>\n",
              "      <td>-0.470896</td>\n",
              "    </tr>\n",
              "    <tr>\n",
              "      <th>2</th>\n",
              "      <td>-0.244037</td>\n",
              "      <td>-0.854284</td>\n",
              "      <td>0.774723</td>\n",
              "      <td>-0.504863</td>\n",
              "      <td>-0.470896</td>\n",
              "    </tr>\n",
              "    <tr>\n",
              "      <th>3</th>\n",
              "      <td>0.415687</td>\n",
              "      <td>1.918057</td>\n",
              "      <td>-1.794193</td>\n",
              "      <td>0.479479</td>\n",
              "      <td>-0.470896</td>\n",
              "    </tr>\n",
              "    <tr>\n",
              "      <th>4</th>\n",
              "      <td>0.415687</td>\n",
              "      <td>-0.846613</td>\n",
              "      <td>0.774723</td>\n",
              "      <td>-0.504863</td>\n",
              "      <td>-0.470896</td>\n",
              "    </tr>\n",
              "  </tbody>\n",
              "</table>\n",
              "</div>"
            ],
            "text/plain": [
              "        age      fare    pclass     sibsp     parch\n",
              "0 -0.537247 -0.895708  0.774723  0.479479 -0.470896\n",
              "1  0.635595  3.033947 -1.794193  0.479479 -0.470896\n",
              "2 -0.244037 -0.854284  0.774723 -0.504863 -0.470896\n",
              "3  0.415687  1.918057 -1.794193  0.479479 -0.470896\n",
              "4  0.415687 -0.846613  0.774723 -0.504863 -0.470896"
            ]
          },
          "execution_count": 112,
          "metadata": {},
          "output_type": "execute_result"
        }
      ],
      "source": [
        "scaler = StandardScaler()\n",
        "normalized_data = scaler.fit_transform(data_for_pca)\n",
        "    \n",
        "df_normalized = pd.DataFrame(normalized_data, columns=selected_columns)\n",
        "\n",
        "df_normalized.head()"
      ]
    },
    {
      "cell_type": "markdown",
      "metadata": {
        "id": "sNR9ryGqgA4m"
      },
      "source": [
        "Menerapkan PCA untuk mengurangi dimensi\n",
        "\n",
        "**Hint: dari 5 dimensi menjadi 2**"
      ]
    },
    {
      "cell_type": "code",
      "execution_count": 113,
      "metadata": {
        "id": "nZ7tatH8dfpd"
      },
      "outputs": [],
      "source": [
        "pca = PCA(n_components=2)\n",
        "pca_result = pca.fit_transform(normalized_data)"
      ]
    },
    {
      "cell_type": "markdown",
      "metadata": {
        "id": "aQZdok36gXOH"
      },
      "source": [
        "Tampilkan data sebelum dan data setelah pengimplementasian PCA\n",
        "\n",
        "**Hint: menggunakan 5 baris pertama :5**"
      ]
    },
    {
      "cell_type": "code",
      "execution_count": 114,
      "metadata": {
        "id": "2LFfR5ZjgXpT"
      },
      "outputs": [
        {
          "name": "stdout",
          "output_type": "stream",
          "text": [
            "Data Sebelum PCA dan bukan data normalisasi (5 Baris Pertama):\n"
          ]
        },
        {
          "data": {
            "text/html": [
              "<div>\n",
              "<style scoped>\n",
              "    .dataframe tbody tr th:only-of-type {\n",
              "        vertical-align: middle;\n",
              "    }\n",
              "\n",
              "    .dataframe tbody tr th {\n",
              "        vertical-align: top;\n",
              "    }\n",
              "\n",
              "    .dataframe thead th {\n",
              "        text-align: right;\n",
              "    }\n",
              "</style>\n",
              "<table border=\"1\" class=\"dataframe\">\n",
              "  <thead>\n",
              "    <tr style=\"text-align: right;\">\n",
              "      <th></th>\n",
              "      <th>age</th>\n",
              "      <th>fare</th>\n",
              "      <th>pclass</th>\n",
              "      <th>sibsp</th>\n",
              "      <th>parch</th>\n",
              "    </tr>\n",
              "  </thead>\n",
              "  <tbody>\n",
              "    <tr>\n",
              "      <th>0</th>\n",
              "      <td>22.0</td>\n",
              "      <td>7.2500</td>\n",
              "      <td>3</td>\n",
              "      <td>1</td>\n",
              "      <td>0</td>\n",
              "    </tr>\n",
              "    <tr>\n",
              "      <th>1</th>\n",
              "      <td>38.0</td>\n",
              "      <td>71.2833</td>\n",
              "      <td>1</td>\n",
              "      <td>1</td>\n",
              "      <td>0</td>\n",
              "    </tr>\n",
              "    <tr>\n",
              "      <th>2</th>\n",
              "      <td>26.0</td>\n",
              "      <td>7.9250</td>\n",
              "      <td>3</td>\n",
              "      <td>0</td>\n",
              "      <td>0</td>\n",
              "    </tr>\n",
              "    <tr>\n",
              "      <th>3</th>\n",
              "      <td>35.0</td>\n",
              "      <td>53.1000</td>\n",
              "      <td>1</td>\n",
              "      <td>1</td>\n",
              "      <td>0</td>\n",
              "    </tr>\n",
              "    <tr>\n",
              "      <th>4</th>\n",
              "      <td>35.0</td>\n",
              "      <td>8.0500</td>\n",
              "      <td>3</td>\n",
              "      <td>0</td>\n",
              "      <td>0</td>\n",
              "    </tr>\n",
              "  </tbody>\n",
              "</table>\n",
              "</div>"
            ],
            "text/plain": [
              "    age     fare  pclass  sibsp  parch\n",
              "0  22.0   7.2500       3      1      0\n",
              "1  38.0  71.2833       1      1      0\n",
              "2  26.0   7.9250       3      0      0\n",
              "3  35.0  53.1000       1      1      0\n",
              "4  35.0   8.0500       3      0      0"
            ]
          },
          "metadata": {},
          "output_type": "display_data"
        },
        {
          "name": "stdout",
          "output_type": "stream",
          "text": [
            "Data Sebelum PCA dan sudah di normalisasi ( 5 Baris Pertama):\n"
          ]
        },
        {
          "data": {
            "text/html": [
              "<div>\n",
              "<style scoped>\n",
              "    .dataframe tbody tr th:only-of-type {\n",
              "        vertical-align: middle;\n",
              "    }\n",
              "\n",
              "    .dataframe tbody tr th {\n",
              "        vertical-align: top;\n",
              "    }\n",
              "\n",
              "    .dataframe thead th {\n",
              "        text-align: right;\n",
              "    }\n",
              "</style>\n",
              "<table border=\"1\" class=\"dataframe\">\n",
              "  <thead>\n",
              "    <tr style=\"text-align: right;\">\n",
              "      <th></th>\n",
              "      <th>age</th>\n",
              "      <th>fare</th>\n",
              "      <th>pclass</th>\n",
              "      <th>sibsp</th>\n",
              "      <th>parch</th>\n",
              "    </tr>\n",
              "  </thead>\n",
              "  <tbody>\n",
              "    <tr>\n",
              "      <th>0</th>\n",
              "      <td>-0.537247</td>\n",
              "      <td>-0.895708</td>\n",
              "      <td>0.774723</td>\n",
              "      <td>0.479479</td>\n",
              "      <td>-0.470896</td>\n",
              "    </tr>\n",
              "    <tr>\n",
              "      <th>1</th>\n",
              "      <td>0.635595</td>\n",
              "      <td>3.033947</td>\n",
              "      <td>-1.794193</td>\n",
              "      <td>0.479479</td>\n",
              "      <td>-0.470896</td>\n",
              "    </tr>\n",
              "    <tr>\n",
              "      <th>2</th>\n",
              "      <td>-0.244037</td>\n",
              "      <td>-0.854284</td>\n",
              "      <td>0.774723</td>\n",
              "      <td>-0.504863</td>\n",
              "      <td>-0.470896</td>\n",
              "    </tr>\n",
              "    <tr>\n",
              "      <th>3</th>\n",
              "      <td>0.415687</td>\n",
              "      <td>1.918057</td>\n",
              "      <td>-1.794193</td>\n",
              "      <td>0.479479</td>\n",
              "      <td>-0.470896</td>\n",
              "    </tr>\n",
              "    <tr>\n",
              "      <th>4</th>\n",
              "      <td>0.415687</td>\n",
              "      <td>-0.846613</td>\n",
              "      <td>0.774723</td>\n",
              "      <td>-0.504863</td>\n",
              "      <td>-0.470896</td>\n",
              "    </tr>\n",
              "  </tbody>\n",
              "</table>\n",
              "</div>"
            ],
            "text/plain": [
              "        age      fare    pclass     sibsp     parch\n",
              "0 -0.537247 -0.895708  0.774723  0.479479 -0.470896\n",
              "1  0.635595  3.033947 -1.794193  0.479479 -0.470896\n",
              "2 -0.244037 -0.854284  0.774723 -0.504863 -0.470896\n",
              "3  0.415687  1.918057 -1.794193  0.479479 -0.470896\n",
              "4  0.415687 -0.846613  0.774723 -0.504863 -0.470896"
            ]
          },
          "metadata": {},
          "output_type": "display_data"
        },
        {
          "name": "stdout",
          "output_type": "stream",
          "text": [
            "\n",
            "Data Setelah PCA (5 Baris Pertama):\n"
          ]
        },
        {
          "data": {
            "text/html": [
              "<div>\n",
              "<style scoped>\n",
              "    .dataframe tbody tr th:only-of-type {\n",
              "        vertical-align: middle;\n",
              "    }\n",
              "\n",
              "    .dataframe tbody tr th {\n",
              "        vertical-align: top;\n",
              "    }\n",
              "\n",
              "    .dataframe thead th {\n",
              "        text-align: right;\n",
              "    }\n",
              "</style>\n",
              "<table border=\"1\" class=\"dataframe\">\n",
              "  <thead>\n",
              "    <tr style=\"text-align: right;\">\n",
              "      <th></th>\n",
              "      <th>Principal Component 1</th>\n",
              "      <th>Principal Component 2</th>\n",
              "    </tr>\n",
              "  </thead>\n",
              "  <tbody>\n",
              "    <tr>\n",
              "      <th>0</th>\n",
              "      <td>1.154475</td>\n",
              "      <td>-0.576836</td>\n",
              "    </tr>\n",
              "    <tr>\n",
              "      <th>1</th>\n",
              "      <td>-2.678954</td>\n",
              "      <td>2.101618</td>\n",
              "    </tr>\n",
              "    <tr>\n",
              "      <th>2</th>\n",
              "      <td>0.706425</td>\n",
              "      <td>-1.159961</td>\n",
              "    </tr>\n",
              "    <tr>\n",
              "      <th>3</th>\n",
              "      <td>-2.119499</td>\n",
              "      <td>1.490373</td>\n",
              "    </tr>\n",
              "    <tr>\n",
              "      <th>4</th>\n",
              "      <td>0.347913</td>\n",
              "      <td>-1.267028</td>\n",
              "    </tr>\n",
              "  </tbody>\n",
              "</table>\n",
              "</div>"
            ],
            "text/plain": [
              "   Principal Component 1  Principal Component 2\n",
              "0               1.154475              -0.576836\n",
              "1              -2.678954               2.101618\n",
              "2               0.706425              -1.159961\n",
              "3              -2.119499               1.490373\n",
              "4               0.347913              -1.267028"
            ]
          },
          "execution_count": 114,
          "metadata": {},
          "output_type": "execute_result"
        }
      ],
      "source": [
        "df_PCA = pd.DataFrame(data=pca_result, columns=['Principal Component 1', 'Principal Component 2'])\n",
        "\n",
        "print(\"Data Sebelum PCA dan bukan data normalisasi (5 Baris Pertama):\")\n",
        "display(df[selected_columns].head())\n",
        "\n",
        "print(\"Data Sebelum PCA dan sudah di normalisasi ( 5 Baris Pertama):\")\n",
        "display(df_normalized.head())\n",
        "\n",
        "print(\"\\nData Setelah PCA (5 Baris Pertama):\")\n",
        "df_PCA.head()"
      ]
    },
    {
      "cell_type": "markdown",
      "metadata": {
        "id": "2C01L_VwghxL"
      },
      "source": [
        "Berikan Kesimpulan:"
      ]
    },
    {
      "cell_type": "markdown",
      "metadata": {
        "id": "Ar8JtrK8gkEz"
      },
      "source": [
        "Pada kali ini kita disuruh untuk melakukan reduksi dimensi menggunakan PCA (Principal Component Analysis) untuk mengekstrak dua komponen utama dari data yang telah dinormalisasi. Pertama, kita memilih kolom numerik yang akan digunakan, yaitu age, fare, pclass, sibsp, dan parch, dan menyimpannya dalam variabel selected_columns. Di step selanjutnya, kita melakukan normalisasi data dengan menggunakan StandardScaler() agar setiap fitur memiliki rata-rata 0 dan deviasi standar 1. Setelah itu, kita menerapkan PCA dengan PCA(n_components=2) untuk mengurangi dimensi data dari 5 dimensi menjadi 2 dimensi. Hasil dari PCA disimpan dalam DataFrame baru yang bernama df_PCA, yang memiliki dua kolom: Principal Component 1 dan Principal Component 2. Lalu, kita menambahkan kolom survived dari DataFrame asli ke dalam df_PCA untuk menjaga label target. Terakhir, kita menampilkan 5 baris pertama dari data asli dan data setelah penerapan PCA menggunakan head(), sehingga kita dapat membandingkan data sebelum dan sesudah pengurangan dimensi."
      ]
    },
    {
      "cell_type": "markdown",
      "metadata": {
        "id": "Jwn2Ok5RitkU"
      },
      "source": [
        "### Sampling"
      ]
    },
    {
      "cell_type": "markdown",
      "metadata": {
        "id": "jJT9bJBFqmnw"
      },
      "source": [
        "Pengambilan sampel berguna untuk mempercepat proses analisis jika dataset terlalu besar. Kita mengambil sejumlah sampel acak dari dataset untuk dianalisis lebih lanjut."
      ]
    },
    {
      "cell_type": "markdown",
      "metadata": {
        "id": "4og2mnDFhG8M"
      },
      "source": [
        "Melihat info dari data\n",
        "\n",
        "**Hint: info()**"
      ]
    },
    {
      "cell_type": "code",
      "execution_count": 115,
      "metadata": {
        "id": "a8uLboAghFdt"
      },
      "outputs": [
        {
          "name": "stdout",
          "output_type": "stream",
          "text": [
            "Informasi Data:\n",
            "<class 'pandas.core.frame.DataFrame'>\n",
            "Index: 698 entries, 0 to 888\n",
            "Data columns (total 13 columns):\n",
            " #   Column       Non-Null Count  Dtype  \n",
            "---  ------       --------------  -----  \n",
            " 0   survived     698 non-null    int64  \n",
            " 1   pclass       698 non-null    int64  \n",
            " 2   sex          698 non-null    object \n",
            " 3   age          698 non-null    float64\n",
            " 4   sibsp        698 non-null    int64  \n",
            " 5   parch        698 non-null    int64  \n",
            " 6   fare         698 non-null    float64\n",
            " 7   embarked     698 non-null    object \n",
            " 8   class        698 non-null    object \n",
            " 9   adult_male   698 non-null    bool   \n",
            " 10  embark_town  698 non-null    object \n",
            " 11  alive        698 non-null    object \n",
            " 12  alone        698 non-null    bool   \n",
            "dtypes: bool(2), float64(2), int64(4), object(5)\n",
            "memory usage: 66.8+ KB\n"
          ]
        }
      ],
      "source": [
        "print(\"Informasi Data:\")\n",
        "df.info()"
      ]
    },
    {
      "cell_type": "markdown",
      "metadata": {
        "id": "vZnYW63OhzZB"
      },
      "source": [
        "Mengambil data sample\n",
        "\n",
        "**Hint: sample 80%, dan menggunakan random_states=1**"
      ]
    },
    {
      "cell_type": "code",
      "execution_count": 116,
      "metadata": {
        "id": "O3yhE5wNiw3Z"
      },
      "outputs": [],
      "source": [
        "df_sample = df.sample(frac=0.8, random_state=1)"
      ]
    },
    {
      "cell_type": "markdown",
      "metadata": {
        "id": "srKBuhZtqqCa"
      },
      "source": [
        "Melihat info dari data\n",
        "\n",
        "**Hint: info()**"
      ]
    },
    {
      "cell_type": "code",
      "execution_count": 117,
      "metadata": {
        "id": "4dlL7l_-i4zM"
      },
      "outputs": [
        {
          "name": "stdout",
          "output_type": "stream",
          "text": [
            "Informasi Data Sampel:\n",
            "<class 'pandas.core.frame.DataFrame'>\n",
            "Index: 558 entries, 880 to 823\n",
            "Data columns (total 13 columns):\n",
            " #   Column       Non-Null Count  Dtype  \n",
            "---  ------       --------------  -----  \n",
            " 0   survived     558 non-null    int64  \n",
            " 1   pclass       558 non-null    int64  \n",
            " 2   sex          558 non-null    object \n",
            " 3   age          558 non-null    float64\n",
            " 4   sibsp        558 non-null    int64  \n",
            " 5   parch        558 non-null    int64  \n",
            " 6   fare         558 non-null    float64\n",
            " 7   embarked     558 non-null    object \n",
            " 8   class        558 non-null    object \n",
            " 9   adult_male   558 non-null    bool   \n",
            " 10  embark_town  558 non-null    object \n",
            " 11  alive        558 non-null    object \n",
            " 12  alone        558 non-null    bool   \n",
            "dtypes: bool(2), float64(2), int64(4), object(5)\n",
            "memory usage: 53.4+ KB\n"
          ]
        }
      ],
      "source": [
        "print(\"Informasi Data Sampel:\")\n",
        "df_sample.info()"
      ]
    },
    {
      "cell_type": "markdown",
      "metadata": {
        "id": "BYN20H5NibcL"
      },
      "source": [
        "Berikan Kesimpulan:"
      ]
    },
    {
      "cell_type": "markdown",
      "metadata": {
        "id": "m93zzsW8idt2"
      },
      "source": [
        "Pada kali ini kita disuruh untuk melakukan pengambilan sampel dari dataset untuk mempercepat proses analisis. Pertama, kita memeriksa informasi dari data asli menggunakan df.info() untuk memahami struktur dan jumlah data yang tersedia. Di step selanjutnya, kita mengambil sampel acak sebanyak 80% dari dataset menggunakan perintah df.sample(frac=0.8, random_state=1). Parameter random_state=1 digunakan untuk memastikan bahwa pengambilan sampel dapat direproduksi di lain waktu. Hasil sampel disimpan dalam variabel df_sample. Habis itu, kita memeriksa informasi dari data sampel yang telah diambil dengan menggunakan df_sample.info(), sehingga kita dapat memastikan bahwa jumlah data dalam sampel sesuai dengan yang diharapkan dan tetap mencakup struktur yang ada pada data asli."
      ]
    },
    {
      "cell_type": "markdown",
      "metadata": {
        "id": "oajQn22qHQx3"
      },
      "source": [
        "## Data Transformation"
      ]
    },
    {
      "cell_type": "markdown",
      "metadata": {
        "id": "CVG55yvpjXlM"
      },
      "source": [
        "### Normalization (Min-Max Scaling)"
      ]
    },
    {
      "cell_type": "markdown",
      "metadata": {
        "id": "F7ehJsMRqvmS"
      },
      "source": [
        "Untuk kolom-kolom numerik seperti fare dan age, kita menerapkan normalisasi sehingga nilainya berada di rentang 0 hingga 1. Ini penting dalam banyak model machine learning yang sensitif terhadap skala data."
      ]
    },
    {
      "cell_type": "markdown",
      "metadata": {
        "id": "ZQT-P9JaqxPF"
      },
      "source": [
        "Melihat data teratas\n",
        "\n",
        "**Hint: head()**"
      ]
    },
    {
      "cell_type": "code",
      "execution_count": 118,
      "metadata": {
        "id": "ZnkUO1jVjm_h"
      },
      "outputs": [
        {
          "data": {
            "text/html": [
              "<div>\n",
              "<style scoped>\n",
              "    .dataframe tbody tr th:only-of-type {\n",
              "        vertical-align: middle;\n",
              "    }\n",
              "\n",
              "    .dataframe tbody tr th {\n",
              "        vertical-align: top;\n",
              "    }\n",
              "\n",
              "    .dataframe thead th {\n",
              "        text-align: right;\n",
              "    }\n",
              "</style>\n",
              "<table border=\"1\" class=\"dataframe\">\n",
              "  <thead>\n",
              "    <tr style=\"text-align: right;\">\n",
              "      <th></th>\n",
              "      <th>survived</th>\n",
              "      <th>pclass</th>\n",
              "      <th>sex</th>\n",
              "      <th>age</th>\n",
              "      <th>sibsp</th>\n",
              "      <th>parch</th>\n",
              "      <th>fare</th>\n",
              "      <th>embarked</th>\n",
              "      <th>class</th>\n",
              "      <th>adult_male</th>\n",
              "      <th>embark_town</th>\n",
              "      <th>alive</th>\n",
              "      <th>alone</th>\n",
              "    </tr>\n",
              "  </thead>\n",
              "  <tbody>\n",
              "    <tr>\n",
              "      <th>0</th>\n",
              "      <td>0</td>\n",
              "      <td>3</td>\n",
              "      <td>male</td>\n",
              "      <td>22.0</td>\n",
              "      <td>1</td>\n",
              "      <td>0</td>\n",
              "      <td>7.2500</td>\n",
              "      <td>S</td>\n",
              "      <td>Third</td>\n",
              "      <td>True</td>\n",
              "      <td>Southampton</td>\n",
              "      <td>no</td>\n",
              "      <td>False</td>\n",
              "    </tr>\n",
              "    <tr>\n",
              "      <th>1</th>\n",
              "      <td>1</td>\n",
              "      <td>1</td>\n",
              "      <td>female</td>\n",
              "      <td>38.0</td>\n",
              "      <td>1</td>\n",
              "      <td>0</td>\n",
              "      <td>71.2833</td>\n",
              "      <td>C</td>\n",
              "      <td>First</td>\n",
              "      <td>False</td>\n",
              "      <td>Cherbourg</td>\n",
              "      <td>yes</td>\n",
              "      <td>False</td>\n",
              "    </tr>\n",
              "    <tr>\n",
              "      <th>2</th>\n",
              "      <td>1</td>\n",
              "      <td>3</td>\n",
              "      <td>female</td>\n",
              "      <td>26.0</td>\n",
              "      <td>0</td>\n",
              "      <td>0</td>\n",
              "      <td>7.9250</td>\n",
              "      <td>S</td>\n",
              "      <td>Third</td>\n",
              "      <td>False</td>\n",
              "      <td>Southampton</td>\n",
              "      <td>yes</td>\n",
              "      <td>True</td>\n",
              "    </tr>\n",
              "    <tr>\n",
              "      <th>3</th>\n",
              "      <td>1</td>\n",
              "      <td>1</td>\n",
              "      <td>female</td>\n",
              "      <td>35.0</td>\n",
              "      <td>1</td>\n",
              "      <td>0</td>\n",
              "      <td>53.1000</td>\n",
              "      <td>S</td>\n",
              "      <td>First</td>\n",
              "      <td>False</td>\n",
              "      <td>Southampton</td>\n",
              "      <td>yes</td>\n",
              "      <td>False</td>\n",
              "    </tr>\n",
              "    <tr>\n",
              "      <th>4</th>\n",
              "      <td>0</td>\n",
              "      <td>3</td>\n",
              "      <td>male</td>\n",
              "      <td>35.0</td>\n",
              "      <td>0</td>\n",
              "      <td>0</td>\n",
              "      <td>8.0500</td>\n",
              "      <td>S</td>\n",
              "      <td>Third</td>\n",
              "      <td>True</td>\n",
              "      <td>Southampton</td>\n",
              "      <td>no</td>\n",
              "      <td>True</td>\n",
              "    </tr>\n",
              "  </tbody>\n",
              "</table>\n",
              "</div>"
            ],
            "text/plain": [
              "   survived  pclass     sex   age  sibsp  parch     fare embarked  class  \\\n",
              "0         0       3    male  22.0      1      0   7.2500        S  Third   \n",
              "1         1       1  female  38.0      1      0  71.2833        C  First   \n",
              "2         1       3  female  26.0      0      0   7.9250        S  Third   \n",
              "3         1       1  female  35.0      1      0  53.1000        S  First   \n",
              "4         0       3    male  35.0      0      0   8.0500        S  Third   \n",
              "\n",
              "   adult_male  embark_town alive  alone  \n",
              "0        True  Southampton    no  False  \n",
              "1       False    Cherbourg   yes  False  \n",
              "2       False  Southampton   yes   True  \n",
              "3       False  Southampton   yes  False  \n",
              "4        True  Southampton    no   True  "
            ]
          },
          "execution_count": 118,
          "metadata": {},
          "output_type": "execute_result"
        }
      ],
      "source": [
        "df.head()"
      ]
    },
    {
      "cell_type": "markdown",
      "metadata": {
        "id": "Oi3WxGthrtYj"
      },
      "source": [
        "Import library\n",
        "\n",
        "**Hint: sklearn.preprocessing (MinMaxScaler)**"
      ]
    },
    {
      "cell_type": "code",
      "execution_count": 119,
      "metadata": {
        "id": "WTyJyrBikjrS"
      },
      "outputs": [],
      "source": [
        "from sklearn.preprocessing import MinMaxScaler"
      ]
    },
    {
      "cell_type": "markdown",
      "metadata": {
        "id": "1pKpnYedr6jB"
      },
      "source": [
        "Normalisasikan data pada kolum **fare** dan **age**\n",
        "\n",
        "**Hint: fit_transform()**"
      ]
    },
    {
      "cell_type": "code",
      "execution_count": 120,
      "metadata": {
        "id": "Ebn49xiyHSty"
      },
      "outputs": [
        {
          "name": "stdout",
          "output_type": "stream",
          "text": [
            "Maximum values before normalization:\n",
            "fare    77.9583\n",
            "age     80.0000\n",
            "dtype: float64\n",
            "\n",
            "Minimum values before normalization:\n",
            "fare    4.0125\n",
            "age     0.4200\n",
            "dtype: float64\n",
            "\n",
            "Normalized values:\n"
          ]
        },
        {
          "data": {
            "text/html": [
              "<div>\n",
              "<style scoped>\n",
              "    .dataframe tbody tr th:only-of-type {\n",
              "        vertical-align: middle;\n",
              "    }\n",
              "\n",
              "    .dataframe tbody tr th {\n",
              "        vertical-align: top;\n",
              "    }\n",
              "\n",
              "    .dataframe thead th {\n",
              "        text-align: right;\n",
              "    }\n",
              "</style>\n",
              "<table border=\"1\" class=\"dataframe\">\n",
              "  <thead>\n",
              "    <tr style=\"text-align: right;\">\n",
              "      <th></th>\n",
              "      <th>fare</th>\n",
              "      <th>age</th>\n",
              "    </tr>\n",
              "  </thead>\n",
              "  <tbody>\n",
              "    <tr>\n",
              "      <th>0</th>\n",
              "      <td>0.043782</td>\n",
              "      <td>0.271174</td>\n",
              "    </tr>\n",
              "    <tr>\n",
              "      <th>1</th>\n",
              "      <td>0.909731</td>\n",
              "      <td>0.472229</td>\n",
              "    </tr>\n",
              "    <tr>\n",
              "      <th>2</th>\n",
              "      <td>0.052910</td>\n",
              "      <td>0.321438</td>\n",
              "    </tr>\n",
              "    <tr>\n",
              "      <th>3</th>\n",
              "      <td>0.663831</td>\n",
              "      <td>0.434531</td>\n",
              "    </tr>\n",
              "    <tr>\n",
              "      <th>4</th>\n",
              "      <td>0.054601</td>\n",
              "      <td>0.434531</td>\n",
              "    </tr>\n",
              "  </tbody>\n",
              "</table>\n",
              "</div>"
            ],
            "text/plain": [
              "       fare       age\n",
              "0  0.043782  0.271174\n",
              "1  0.909731  0.472229\n",
              "2  0.052910  0.321438\n",
              "3  0.663831  0.434531\n",
              "4  0.054601  0.434531"
            ]
          },
          "metadata": {},
          "output_type": "display_data"
        }
      ],
      "source": [
        "columns_to_normalize = ['fare', 'age']\n",
        "\n",
        "max_values_before = df[columns_to_normalize].max()\n",
        "min_values_before = df[columns_to_normalize].min()\n",
        "\n",
        "print(\"Maximum values before normalization:\")\n",
        "print(max_values_before)\n",
        "\n",
        "print(\"\\nMinimum values before normalization:\")\n",
        "print(min_values_before)\n",
        "\n",
        "minmaxscaler = MinMaxScaler()\n",
        "\n",
        "df[columns_to_normalize] = minmaxscaler.fit_transform(df[columns_to_normalize])\n",
        "\n",
        "print(\"\\nNormalized values:\")\n",
        "display(df[columns_to_normalize].head())"
      ]
    },
    {
      "cell_type": "markdown",
      "metadata": {
        "id": "HkAkG7p3s6eH"
      },
      "source": [
        "Berikan Kesimpulan:"
      ]
    },
    {
      "cell_type": "markdown",
      "metadata": {
        "id": "yFusHGsTs8bu"
      },
      "source": [
        "Pada kali ini kita disuruh untuk melakukan normalisasi pada kolom-kolom numerik seperti fare dan age dengan menggunakan metode Min-Max Scaling, sehingga nilainya berada di rentang 0 hingga 1. Normalisasi ini penting untuk model machine learning yang sensitif terhadap skala data. Pertama, kita melihat data teratas setelah pengambilan sampel menggunakan df.head() untuk memahami bagaimana data terlihat sebelum normalisasi. Step selanjutnya, kita mengimpor library yang diperlukan, yaitu MinMaxScaler dari sklearn.preprocessing. Kemudian, kita menerapkan normalisasi pada kolom fare dan age dengan menggunakan fit_transform() dari objek MinMaxScaler(). Hasil normalisasi disimpan kembali ke dalam kolom yang sama di df, sehingga data pada kolom tersebut kini berada dalam rentang 0 hingga 1.Dengan langkah-langkah seperti ini, kita memastikan bahwa data sudah siap untuk digunakan dalam model machine learning yang akan dianalisis lebih lanjut."
      ]
    },
    {
      "cell_type": "markdown",
      "metadata": {
        "id": "s4EXiCHyj1DC"
      },
      "source": [
        "### Discretization (Binning)"
      ]
    },
    {
      "cell_type": "markdown",
      "metadata": {
        "id": "ms6ZMDtrsiA7"
      },
      "source": [
        "Kolom seperti age dibagi menjadi beberapa kategori (muda, dewasa, tua) untuk tujuan klasifikasi."
      ]
    },
    {
      "cell_type": "markdown",
      "metadata": {
        "id": "Wx5vQUOksVm0"
      },
      "source": [
        "Tampilkan data teratas\n",
        "\n",
        "**Hint: head()**"
      ]
    },
    {
      "cell_type": "code",
      "execution_count": 121,
      "metadata": {
        "id": "NIK0FrbalU5b"
      },
      "outputs": [
        {
          "data": {
            "text/html": [
              "<div>\n",
              "<style scoped>\n",
              "    .dataframe tbody tr th:only-of-type {\n",
              "        vertical-align: middle;\n",
              "    }\n",
              "\n",
              "    .dataframe tbody tr th {\n",
              "        vertical-align: top;\n",
              "    }\n",
              "\n",
              "    .dataframe thead th {\n",
              "        text-align: right;\n",
              "    }\n",
              "</style>\n",
              "<table border=\"1\" class=\"dataframe\">\n",
              "  <thead>\n",
              "    <tr style=\"text-align: right;\">\n",
              "      <th></th>\n",
              "      <th>survived</th>\n",
              "      <th>pclass</th>\n",
              "      <th>sex</th>\n",
              "      <th>age</th>\n",
              "      <th>sibsp</th>\n",
              "      <th>parch</th>\n",
              "      <th>fare</th>\n",
              "      <th>embarked</th>\n",
              "      <th>class</th>\n",
              "      <th>adult_male</th>\n",
              "      <th>embark_town</th>\n",
              "      <th>alive</th>\n",
              "      <th>alone</th>\n",
              "    </tr>\n",
              "  </thead>\n",
              "  <tbody>\n",
              "    <tr>\n",
              "      <th>0</th>\n",
              "      <td>0</td>\n",
              "      <td>3</td>\n",
              "      <td>male</td>\n",
              "      <td>0.271174</td>\n",
              "      <td>1</td>\n",
              "      <td>0</td>\n",
              "      <td>0.043782</td>\n",
              "      <td>S</td>\n",
              "      <td>Third</td>\n",
              "      <td>True</td>\n",
              "      <td>Southampton</td>\n",
              "      <td>no</td>\n",
              "      <td>False</td>\n",
              "    </tr>\n",
              "    <tr>\n",
              "      <th>1</th>\n",
              "      <td>1</td>\n",
              "      <td>1</td>\n",
              "      <td>female</td>\n",
              "      <td>0.472229</td>\n",
              "      <td>1</td>\n",
              "      <td>0</td>\n",
              "      <td>0.909731</td>\n",
              "      <td>C</td>\n",
              "      <td>First</td>\n",
              "      <td>False</td>\n",
              "      <td>Cherbourg</td>\n",
              "      <td>yes</td>\n",
              "      <td>False</td>\n",
              "    </tr>\n",
              "    <tr>\n",
              "      <th>2</th>\n",
              "      <td>1</td>\n",
              "      <td>3</td>\n",
              "      <td>female</td>\n",
              "      <td>0.321438</td>\n",
              "      <td>0</td>\n",
              "      <td>0</td>\n",
              "      <td>0.052910</td>\n",
              "      <td>S</td>\n",
              "      <td>Third</td>\n",
              "      <td>False</td>\n",
              "      <td>Southampton</td>\n",
              "      <td>yes</td>\n",
              "      <td>True</td>\n",
              "    </tr>\n",
              "    <tr>\n",
              "      <th>3</th>\n",
              "      <td>1</td>\n",
              "      <td>1</td>\n",
              "      <td>female</td>\n",
              "      <td>0.434531</td>\n",
              "      <td>1</td>\n",
              "      <td>0</td>\n",
              "      <td>0.663831</td>\n",
              "      <td>S</td>\n",
              "      <td>First</td>\n",
              "      <td>False</td>\n",
              "      <td>Southampton</td>\n",
              "      <td>yes</td>\n",
              "      <td>False</td>\n",
              "    </tr>\n",
              "    <tr>\n",
              "      <th>4</th>\n",
              "      <td>0</td>\n",
              "      <td>3</td>\n",
              "      <td>male</td>\n",
              "      <td>0.434531</td>\n",
              "      <td>0</td>\n",
              "      <td>0</td>\n",
              "      <td>0.054601</td>\n",
              "      <td>S</td>\n",
              "      <td>Third</td>\n",
              "      <td>True</td>\n",
              "      <td>Southampton</td>\n",
              "      <td>no</td>\n",
              "      <td>True</td>\n",
              "    </tr>\n",
              "  </tbody>\n",
              "</table>\n",
              "</div>"
            ],
            "text/plain": [
              "   survived  pclass     sex       age  sibsp  parch      fare embarked  class  \\\n",
              "0         0       3    male  0.271174      1      0  0.043782        S  Third   \n",
              "1         1       1  female  0.472229      1      0  0.909731        C  First   \n",
              "2         1       3  female  0.321438      0      0  0.052910        S  Third   \n",
              "3         1       1  female  0.434531      1      0  0.663831        S  First   \n",
              "4         0       3    male  0.434531      0      0  0.054601        S  Third   \n",
              "\n",
              "   adult_male  embark_town alive  alone  \n",
              "0        True  Southampton    no  False  \n",
              "1       False    Cherbourg   yes  False  \n",
              "2       False  Southampton   yes   True  \n",
              "3       False  Southampton   yes  False  \n",
              "4        True  Southampton    no   True  "
            ]
          },
          "metadata": {},
          "output_type": "display_data"
        }
      ],
      "source": [
        "display(df.head())"
      ]
    },
    {
      "cell_type": "markdown",
      "metadata": {
        "id": "1ZfCv70YskIY"
      },
      "source": [
        "Normalisasikan data kolum **age**\n",
        "\n",
        "**Hint: bins=3, dan labelnya ada young, middle-aged, dan old**"
      ]
    },
    {
      "cell_type": "code",
      "execution_count": 122,
      "metadata": {
        "id": "uFSzuMLJj5BL"
      },
      "outputs": [],
      "source": [
        "bins = 3\n",
        "labels = ['young', 'middle-aged', 'old']    \n",
        "\n",
        "df['age_category'] = pd.cut(df['age'], bins=bins, labels=labels, right=False)"
      ]
    },
    {
      "cell_type": "markdown",
      "metadata": {
        "id": "_WeC-PAjs1bF"
      },
      "source": [
        "Tampilkan data teratas\n",
        "\n",
        "**Hint: head()**"
      ]
    },
    {
      "cell_type": "code",
      "execution_count": 123,
      "metadata": {
        "id": "tgDC5uF1j8vF"
      },
      "outputs": [
        {
          "data": {
            "text/html": [
              "<div>\n",
              "<style scoped>\n",
              "    .dataframe tbody tr th:only-of-type {\n",
              "        vertical-align: middle;\n",
              "    }\n",
              "\n",
              "    .dataframe tbody tr th {\n",
              "        vertical-align: top;\n",
              "    }\n",
              "\n",
              "    .dataframe thead th {\n",
              "        text-align: right;\n",
              "    }\n",
              "</style>\n",
              "<table border=\"1\" class=\"dataframe\">\n",
              "  <thead>\n",
              "    <tr style=\"text-align: right;\">\n",
              "      <th></th>\n",
              "      <th>age</th>\n",
              "      <th>age_category</th>\n",
              "    </tr>\n",
              "  </thead>\n",
              "  <tbody>\n",
              "    <tr>\n",
              "      <th>0</th>\n",
              "      <td>0.271174</td>\n",
              "      <td>young</td>\n",
              "    </tr>\n",
              "    <tr>\n",
              "      <th>1</th>\n",
              "      <td>0.472229</td>\n",
              "      <td>middle-aged</td>\n",
              "    </tr>\n",
              "    <tr>\n",
              "      <th>2</th>\n",
              "      <td>0.321438</td>\n",
              "      <td>young</td>\n",
              "    </tr>\n",
              "    <tr>\n",
              "      <th>3</th>\n",
              "      <td>0.434531</td>\n",
              "      <td>middle-aged</td>\n",
              "    </tr>\n",
              "    <tr>\n",
              "      <th>4</th>\n",
              "      <td>0.434531</td>\n",
              "      <td>middle-aged</td>\n",
              "    </tr>\n",
              "  </tbody>\n",
              "</table>\n",
              "</div>"
            ],
            "text/plain": [
              "        age age_category\n",
              "0  0.271174        young\n",
              "1  0.472229  middle-aged\n",
              "2  0.321438        young\n",
              "3  0.434531  middle-aged\n",
              "4  0.434531  middle-aged"
            ]
          },
          "execution_count": 123,
          "metadata": {},
          "output_type": "execute_result"
        }
      ],
      "source": [
        "df[['age', 'age_category']].head()"
      ]
    },
    {
      "cell_type": "markdown",
      "metadata": {
        "id": "U8WCA4pVtBsB"
      },
      "source": [
        "Berikan Kesimpulan:"
      ]
    },
    {
      "cell_type": "markdown",
      "metadata": {
        "id": "ED87Xa0FtEAI"
      },
      "source": [
        "Pada kali ini kita disuruh untuk melakukan discretization (binning) pada kolom age dengan membaginya menjadi beberapa kategori untuk tujuan klasifikasi, yaitu kategori muda, dewasa, dan tua. Pertama, kita menampilkan data teratas dari df_sample menggunakan display(df.head()) untuk melihat bagaimana data terlihat sebelum dilakukan binning. Habis itu, kita mendefinisikan batasan untuk kategori umur dengan menggunakan variabel bins yang mencakup rentang umur dari 0 hingga 100 tahun. Kita juga mendefinisikan label kategori dengan variabel labels yang berisi 'young', 'middle-aged', dan 'old'. Kemudian, kita menerapkan pd.cut() untuk membuat kolom baru age_category yang berisi kategori umur berdasarkan bin yang telah ditentukan. Parameter right=False digunakan untuk memastikan bahwa batas kanan tidak termasuk dalam kategori tersebut. Dan selanjutnya yang terakhir, kita menampilkan data teratas untuk kolom age dan age_category menggunakan display(df[['age', 'age_category']].head()), sehingga kita dapat melihat hasil kategorisasi umur yang telah dilakukan."
      ]
    },
    {
      "cell_type": "markdown",
      "metadata": {
        "id": "e8PWJKtQkb06"
      },
      "source": [
        "### One-Hot Encoding"
      ]
    },
    {
      "cell_type": "markdown",
      "metadata": {
        "id": "Hxu3SbeNtSlm"
      },
      "source": [
        "Kolom kategori seperti sex dan embarked diubah menjadi format numerik menggunakan One-Hot Encoding. Ini membantu model machine learning untuk memahami variabel kategori."
      ]
    },
    {
      "cell_type": "markdown",
      "metadata": {
        "id": "rFx1Xxj_tWg3"
      },
      "source": [
        "Melihat data teratas\n",
        "\n",
        "**Hint: head()**"
      ]
    },
    {
      "cell_type": "code",
      "execution_count": 124,
      "metadata": {
        "id": "4bn4ikbakFR5"
      },
      "outputs": [
        {
          "data": {
            "text/html": [
              "<div>\n",
              "<style scoped>\n",
              "    .dataframe tbody tr th:only-of-type {\n",
              "        vertical-align: middle;\n",
              "    }\n",
              "\n",
              "    .dataframe tbody tr th {\n",
              "        vertical-align: top;\n",
              "    }\n",
              "\n",
              "    .dataframe thead th {\n",
              "        text-align: right;\n",
              "    }\n",
              "</style>\n",
              "<table border=\"1\" class=\"dataframe\">\n",
              "  <thead>\n",
              "    <tr style=\"text-align: right;\">\n",
              "      <th></th>\n",
              "      <th>survived</th>\n",
              "      <th>pclass</th>\n",
              "      <th>sex</th>\n",
              "      <th>age</th>\n",
              "      <th>sibsp</th>\n",
              "      <th>parch</th>\n",
              "      <th>fare</th>\n",
              "      <th>embarked</th>\n",
              "      <th>class</th>\n",
              "      <th>adult_male</th>\n",
              "      <th>embark_town</th>\n",
              "      <th>alive</th>\n",
              "      <th>alone</th>\n",
              "      <th>age_category</th>\n",
              "    </tr>\n",
              "  </thead>\n",
              "  <tbody>\n",
              "    <tr>\n",
              "      <th>0</th>\n",
              "      <td>0</td>\n",
              "      <td>3</td>\n",
              "      <td>male</td>\n",
              "      <td>0.271174</td>\n",
              "      <td>1</td>\n",
              "      <td>0</td>\n",
              "      <td>0.043782</td>\n",
              "      <td>S</td>\n",
              "      <td>Third</td>\n",
              "      <td>True</td>\n",
              "      <td>Southampton</td>\n",
              "      <td>no</td>\n",
              "      <td>False</td>\n",
              "      <td>young</td>\n",
              "    </tr>\n",
              "    <tr>\n",
              "      <th>1</th>\n",
              "      <td>1</td>\n",
              "      <td>1</td>\n",
              "      <td>female</td>\n",
              "      <td>0.472229</td>\n",
              "      <td>1</td>\n",
              "      <td>0</td>\n",
              "      <td>0.909731</td>\n",
              "      <td>C</td>\n",
              "      <td>First</td>\n",
              "      <td>False</td>\n",
              "      <td>Cherbourg</td>\n",
              "      <td>yes</td>\n",
              "      <td>False</td>\n",
              "      <td>middle-aged</td>\n",
              "    </tr>\n",
              "    <tr>\n",
              "      <th>2</th>\n",
              "      <td>1</td>\n",
              "      <td>3</td>\n",
              "      <td>female</td>\n",
              "      <td>0.321438</td>\n",
              "      <td>0</td>\n",
              "      <td>0</td>\n",
              "      <td>0.052910</td>\n",
              "      <td>S</td>\n",
              "      <td>Third</td>\n",
              "      <td>False</td>\n",
              "      <td>Southampton</td>\n",
              "      <td>yes</td>\n",
              "      <td>True</td>\n",
              "      <td>young</td>\n",
              "    </tr>\n",
              "    <tr>\n",
              "      <th>3</th>\n",
              "      <td>1</td>\n",
              "      <td>1</td>\n",
              "      <td>female</td>\n",
              "      <td>0.434531</td>\n",
              "      <td>1</td>\n",
              "      <td>0</td>\n",
              "      <td>0.663831</td>\n",
              "      <td>S</td>\n",
              "      <td>First</td>\n",
              "      <td>False</td>\n",
              "      <td>Southampton</td>\n",
              "      <td>yes</td>\n",
              "      <td>False</td>\n",
              "      <td>middle-aged</td>\n",
              "    </tr>\n",
              "    <tr>\n",
              "      <th>4</th>\n",
              "      <td>0</td>\n",
              "      <td>3</td>\n",
              "      <td>male</td>\n",
              "      <td>0.434531</td>\n",
              "      <td>0</td>\n",
              "      <td>0</td>\n",
              "      <td>0.054601</td>\n",
              "      <td>S</td>\n",
              "      <td>Third</td>\n",
              "      <td>True</td>\n",
              "      <td>Southampton</td>\n",
              "      <td>no</td>\n",
              "      <td>True</td>\n",
              "      <td>middle-aged</td>\n",
              "    </tr>\n",
              "  </tbody>\n",
              "</table>\n",
              "</div>"
            ],
            "text/plain": [
              "   survived  pclass     sex       age  sibsp  parch      fare embarked  class  \\\n",
              "0         0       3    male  0.271174      1      0  0.043782        S  Third   \n",
              "1         1       1  female  0.472229      1      0  0.909731        C  First   \n",
              "2         1       3  female  0.321438      0      0  0.052910        S  Third   \n",
              "3         1       1  female  0.434531      1      0  0.663831        S  First   \n",
              "4         0       3    male  0.434531      0      0  0.054601        S  Third   \n",
              "\n",
              "   adult_male  embark_town alive  alone age_category  \n",
              "0        True  Southampton    no  False        young  \n",
              "1       False    Cherbourg   yes  False  middle-aged  \n",
              "2       False  Southampton   yes   True        young  \n",
              "3       False  Southampton   yes  False  middle-aged  \n",
              "4        True  Southampton    no   True  middle-aged  "
            ]
          },
          "execution_count": 124,
          "metadata": {},
          "output_type": "execute_result"
        }
      ],
      "source": [
        "df.head()"
      ]
    },
    {
      "cell_type": "markdown",
      "metadata": {
        "id": "BsszXk7FtcGk"
      },
      "source": [
        "Normalisasikan dengan One-Hot Encoding\n",
        "\n",
        "**Hint: get_dummies(), dan kolum yang di gunakan sex dan emberked**"
      ]
    },
    {
      "cell_type": "code",
      "execution_count": 125,
      "metadata": {
        "id": "8Bm1LUmDkHjx"
      },
      "outputs": [],
      "source": [
        "df = pd.get_dummies(df, columns=['sex', 'embarked'], drop_first=False)"
      ]
    },
    {
      "cell_type": "markdown",
      "metadata": {
        "id": "gHE10bvhtr6j"
      },
      "source": [
        "Tampilkan data teratas\n",
        "\n",
        "**Hint: head()**"
      ]
    },
    {
      "cell_type": "code",
      "execution_count": 126,
      "metadata": {
        "id": "knHLpdPnm6cY"
      },
      "outputs": [
        {
          "data": {
            "text/html": [
              "<div>\n",
              "<style scoped>\n",
              "    .dataframe tbody tr th:only-of-type {\n",
              "        vertical-align: middle;\n",
              "    }\n",
              "\n",
              "    .dataframe tbody tr th {\n",
              "        vertical-align: top;\n",
              "    }\n",
              "\n",
              "    .dataframe thead th {\n",
              "        text-align: right;\n",
              "    }\n",
              "</style>\n",
              "<table border=\"1\" class=\"dataframe\">\n",
              "  <thead>\n",
              "    <tr style=\"text-align: right;\">\n",
              "      <th></th>\n",
              "      <th>survived</th>\n",
              "      <th>pclass</th>\n",
              "      <th>age</th>\n",
              "      <th>sibsp</th>\n",
              "      <th>parch</th>\n",
              "      <th>fare</th>\n",
              "      <th>class</th>\n",
              "      <th>adult_male</th>\n",
              "      <th>embark_town</th>\n",
              "      <th>alive</th>\n",
              "      <th>alone</th>\n",
              "      <th>age_category</th>\n",
              "      <th>sex_female</th>\n",
              "      <th>sex_male</th>\n",
              "      <th>embarked_C</th>\n",
              "      <th>embarked_Q</th>\n",
              "      <th>embarked_S</th>\n",
              "    </tr>\n",
              "  </thead>\n",
              "  <tbody>\n",
              "    <tr>\n",
              "      <th>0</th>\n",
              "      <td>0</td>\n",
              "      <td>3</td>\n",
              "      <td>0.271174</td>\n",
              "      <td>1</td>\n",
              "      <td>0</td>\n",
              "      <td>0.043782</td>\n",
              "      <td>Third</td>\n",
              "      <td>True</td>\n",
              "      <td>Southampton</td>\n",
              "      <td>no</td>\n",
              "      <td>False</td>\n",
              "      <td>young</td>\n",
              "      <td>False</td>\n",
              "      <td>True</td>\n",
              "      <td>False</td>\n",
              "      <td>False</td>\n",
              "      <td>True</td>\n",
              "    </tr>\n",
              "    <tr>\n",
              "      <th>1</th>\n",
              "      <td>1</td>\n",
              "      <td>1</td>\n",
              "      <td>0.472229</td>\n",
              "      <td>1</td>\n",
              "      <td>0</td>\n",
              "      <td>0.909731</td>\n",
              "      <td>First</td>\n",
              "      <td>False</td>\n",
              "      <td>Cherbourg</td>\n",
              "      <td>yes</td>\n",
              "      <td>False</td>\n",
              "      <td>middle-aged</td>\n",
              "      <td>True</td>\n",
              "      <td>False</td>\n",
              "      <td>True</td>\n",
              "      <td>False</td>\n",
              "      <td>False</td>\n",
              "    </tr>\n",
              "    <tr>\n",
              "      <th>2</th>\n",
              "      <td>1</td>\n",
              "      <td>3</td>\n",
              "      <td>0.321438</td>\n",
              "      <td>0</td>\n",
              "      <td>0</td>\n",
              "      <td>0.052910</td>\n",
              "      <td>Third</td>\n",
              "      <td>False</td>\n",
              "      <td>Southampton</td>\n",
              "      <td>yes</td>\n",
              "      <td>True</td>\n",
              "      <td>young</td>\n",
              "      <td>True</td>\n",
              "      <td>False</td>\n",
              "      <td>False</td>\n",
              "      <td>False</td>\n",
              "      <td>True</td>\n",
              "    </tr>\n",
              "    <tr>\n",
              "      <th>3</th>\n",
              "      <td>1</td>\n",
              "      <td>1</td>\n",
              "      <td>0.434531</td>\n",
              "      <td>1</td>\n",
              "      <td>0</td>\n",
              "      <td>0.663831</td>\n",
              "      <td>First</td>\n",
              "      <td>False</td>\n",
              "      <td>Southampton</td>\n",
              "      <td>yes</td>\n",
              "      <td>False</td>\n",
              "      <td>middle-aged</td>\n",
              "      <td>True</td>\n",
              "      <td>False</td>\n",
              "      <td>False</td>\n",
              "      <td>False</td>\n",
              "      <td>True</td>\n",
              "    </tr>\n",
              "    <tr>\n",
              "      <th>4</th>\n",
              "      <td>0</td>\n",
              "      <td>3</td>\n",
              "      <td>0.434531</td>\n",
              "      <td>0</td>\n",
              "      <td>0</td>\n",
              "      <td>0.054601</td>\n",
              "      <td>Third</td>\n",
              "      <td>True</td>\n",
              "      <td>Southampton</td>\n",
              "      <td>no</td>\n",
              "      <td>True</td>\n",
              "      <td>middle-aged</td>\n",
              "      <td>False</td>\n",
              "      <td>True</td>\n",
              "      <td>False</td>\n",
              "      <td>False</td>\n",
              "      <td>True</td>\n",
              "    </tr>\n",
              "  </tbody>\n",
              "</table>\n",
              "</div>"
            ],
            "text/plain": [
              "   survived  pclass       age  sibsp  parch      fare  class  adult_male  \\\n",
              "0         0       3  0.271174      1      0  0.043782  Third        True   \n",
              "1         1       1  0.472229      1      0  0.909731  First       False   \n",
              "2         1       3  0.321438      0      0  0.052910  Third       False   \n",
              "3         1       1  0.434531      1      0  0.663831  First       False   \n",
              "4         0       3  0.434531      0      0  0.054601  Third        True   \n",
              "\n",
              "   embark_town alive  alone age_category  sex_female  sex_male  embarked_C  \\\n",
              "0  Southampton    no  False        young       False      True       False   \n",
              "1    Cherbourg   yes  False  middle-aged        True     False        True   \n",
              "2  Southampton   yes   True        young        True     False       False   \n",
              "3  Southampton   yes  False  middle-aged        True     False       False   \n",
              "4  Southampton    no   True  middle-aged       False      True       False   \n",
              "\n",
              "   embarked_Q  embarked_S  \n",
              "0       False        True  \n",
              "1       False       False  \n",
              "2       False        True  \n",
              "3       False        True  \n",
              "4       False        True  "
            ]
          },
          "execution_count": 126,
          "metadata": {},
          "output_type": "execute_result"
        }
      ],
      "source": [
        "df.head()"
      ]
    },
    {
      "cell_type": "markdown",
      "metadata": {
        "id": "k6ecNd1Jtykk"
      },
      "source": [
        "Berikan Kesimpulan"
      ]
    },
    {
      "cell_type": "markdown",
      "metadata": {
        "id": "EUzfuzqCt0Oo"
      },
      "source": [
        "Pada kali ini kita disuruh untuk melakukan One-Hot Encoding pada kolom kategori sex dan embarked untuk mengubahnya menjadi format numerik, yang dapat membantu model machine learning memahami variabel kategori dengan lebih baik. Pertama, kita mulai dengan menampilkan data teratas dari df menggunakan df.head() untuk melihat struktur dan nilai yang ada sebelum penerapan One-Hot Encoding. Selanjutnya, kita menggunakan pd.get_dummies() untuk melakukan One-Hot Encoding pada kolom sex dan embarked. Kita juga menyertakan parameter drop_first=True untuk menghindari multikolinearitas dengan menghapus salah satu kategori dari setiap kolom yang di-encode. Terakhir, kita menampilkan data teratas dari df menggunakan df.head() untuk melihat hasil dari One-Hot Encoding yang telah diterapkan, sehingga kita dapat memverifikasi bahwa kolom kategori telah berhasil diubah menjadi format numerik."
      ]
    }
  ],
  "metadata": {
    "colab": {
      "provenance": []
    },
    "kernelspec": {
      "display_name": "Python 3",
      "name": "python3"
    },
    "language_info": {
      "codemirror_mode": {
        "name": "ipython",
        "version": 3
      },
      "file_extension": ".py",
      "mimetype": "text/x-python",
      "name": "python",
      "nbconvert_exporter": "python",
      "pygments_lexer": "ipython3",
      "version": "3.13.0"
    }
  },
  "nbformat": 4,
  "nbformat_minor": 0
}
